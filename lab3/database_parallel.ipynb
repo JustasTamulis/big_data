{
 "cells": [
  {
   "cell_type": "code",
   "execution_count": 21,
   "id": "8e13eb6f",
   "metadata": {},
   "outputs": [],
   "source": [
    "# run database_creation.ipynb first"
   ]
  },
  {
   "cell_type": "code",
   "execution_count": null,
   "id": "63c28045",
   "metadata": {},
   "outputs": [],
   "source": []
  },
  {
   "cell_type": "markdown",
   "id": "44d8b42a",
   "metadata": {},
   "source": [
    "## Parallel AIS Data Processing Notebook\n",
    "This notebook performs data insertion, noise filtering, and delta_t calculation for AIS data."
   ]
  },
  {
   "cell_type": "markdown",
   "id": "813abd60",
   "metadata": {},
   "source": [
    "## Setup: Imports and Configuration"
   ]
  },
  {
   "cell_type": "code",
   "execution_count": 22,
   "id": "1e6378d8",
   "metadata": {},
   "outputs": [],
   "source": [
    "import pandas as pd\n",
    "from tqdm import tqdm\n",
    "from pymongo import MongoClient, ASCENDING\n",
    "from datetime import datetime\n",
    "import matplotlib.pyplot as plt\n",
    "import numpy as np\n",
    "\n",
    "def get_client(port = 27017):\n",
    "    return MongoClient('localhost', port, directConnection=True, replicaSet='myReplicaSet')\n",
    "\n",
    "DB_NAME = 'ais_assignment_db_sequential'\n",
    "RAW_COLLECTION_NAME = 'ais_raw_data_seq'\n",
    "FILTERED_COLLECTION_NAME = 'ais_filtered_data_seq'\n",
    "\n",
    "CSV_FILE_PATH = \"aisdk_test.csv\"\n",
    "CHUNK_SIZE = 10000\n",
    "\n",
    "main_client = get_client()\n",
    "db = main_client[DB_NAME]"
   ]
  },
  {
   "cell_type": "markdown",
   "id": "38188a38",
   "metadata": {},
   "source": [
    "### Health check and pymongo functions"
   ]
  },
  {
   "cell_type": "code",
   "execution_count": 23,
   "id": "f732f0bf",
   "metadata": {},
   "outputs": [],
   "source": [
    "def print_member_status(client):\n",
    "    db = client.admin\n",
    "    rs_status = db.command({'replSetGetStatus': 1})\n",
    "\n",
    "    for m in rs_status['members']:\n",
    "        print(m['name'], m['stateStr'])\n",
    "\n",
    "def ping(client):\n",
    "    try:\n",
    "        client.admin.command('ping')\n",
    "        print(\"Ping successful\")\n",
    "    except Exception as e:\n",
    "        print(f\"Ping failed: {e}\")"
   ]
  },
  {
   "cell_type": "code",
   "execution_count": 24,
   "id": "74823c36",
   "metadata": {},
   "outputs": [
    {
     "name": "stdout",
     "output_type": "stream",
     "text": [
      "mongo1:27017 SECONDARY\n",
      "mongo2:27017 SECONDARY\n",
      "mongo3:27017 PRIMARY\n",
      "Ping successful\n"
     ]
    }
   ],
   "source": [
    "print_member_status(main_client)\n",
    "ping(main_client)"
   ]
  },
  {
   "cell_type": "code",
   "execution_count": 4,
   "id": "9eb54d7d",
   "metadata": {},
   "outputs": [],
   "source": [
    "# df= pd.read_csv(CSV_FILE_PATH)\n",
    "# df.head(1)\n",
    "# df[\"Navigational status\"].value_counts()"
   ]
  },
  {
   "cell_type": "markdown",
   "id": "053c3027",
   "metadata": {},
   "source": [
    "## Task 2: Data Insertion\n",
    "Reading data from CSV and inserting into MongoDB. Timestamps are converted."
   ]
  },
  {
   "cell_type": "code",
   "execution_count": 7,
   "id": "7c30e8f4",
   "metadata": {},
   "outputs": [],
   "source": [
    "# Drop collection\n",
    "\n",
    "raw_collection = db[RAW_COLLECTION_NAME]\n",
    "raw_collection.drop()"
   ]
  },
  {
   "cell_type": "code",
   "execution_count": 10,
   "id": "a89040c8",
   "metadata": {},
   "outputs": [
    {
     "name": "stderr",
     "output_type": "stream",
     "text": [
      " 17%|█▋        | 20/120 [00:01<00:09, 10.25it/s]"
     ]
    },
    {
     "name": "stdout",
     "output_type": "stream",
     "text": [
      "Total documents inserted: 199999\n"
     ]
    },
    {
     "name": "stderr",
     "output_type": "stream",
     "text": [
      "\n"
     ]
    }
   ],
   "source": [
    "import multiprocessing as mp\n",
    "\n",
    "def insert_chunk(chunk_df, collection):\n",
    "    chunk_df['# Timestamp'] = pd.to_datetime(chunk_df['# Timestamp'], format='%d/%m/%Y %H:%M:%S', errors='coerce')\n",
    "    chunk_df.dropna(subset=['# Timestamp'], inplace=True)\n",
    "    records = chunk_df.to_dict(orient='records')\n",
    "    if records:\n",
    "        collection.insert_many(records, ordered=False)\n",
    "        return len(records)\n",
    "    return 0\n",
    "\n",
    "# function for parallel processing\n",
    "def process_chunk(chunk_df):\n",
    "    process_client = get_client()\n",
    "    process_db = process_client[DB_NAME]\n",
    "    process_collection = process_db[RAW_COLLECTION_NAME]\n",
    "    inserted_count = insert_chunk(chunk_df, process_collection)\n",
    "    return inserted_count\n",
    "\n",
    "num_processes = mp.cpu_count()\n",
    "total_inserted = 0\n",
    "chunks = pd.read_csv(CSV_FILE_PATH, chunksize=CHUNK_SIZE)\n",
    "with mp.Pool(processes=num_processes) as pool:\n",
    "    results = pool.imap_unordered(process_chunk, chunks)\n",
    "    for i, result in enumerate(tqdm(results, total= int(1200000 / CHUNK_SIZE))):\n",
    "        total_inserted += result\n",
    "print(f\"Total documents inserted: {total_inserted}\")"
   ]
  },
  {
   "cell_type": "code",
   "execution_count": 11,
   "id": "9bc6acc9",
   "metadata": {},
   "outputs": [
    {
     "data": {
      "text/plain": [
       "'MMSI_1_# Timestamp_1'"
      ]
     },
     "execution_count": 11,
     "metadata": {},
     "output_type": "execute_result"
    }
   ],
   "source": [
    "# Create index\n",
    "raw_collection.create_index([(\"MMSI\", ASCENDING), (\"# Timestamp\", ASCENDING)])"
   ]
  },
  {
   "cell_type": "code",
   "execution_count": 12,
   "id": "4fce2732",
   "metadata": {},
   "outputs": [
    {
     "name": "stdout",
     "output_type": "stream",
     "text": [
      "199999\n"
     ]
    }
   ],
   "source": [
    "print(raw_collection.count_documents({}))"
   ]
  },
  {
   "cell_type": "code",
   "execution_count": 13,
   "id": "4b7d4e29",
   "metadata": {},
   "outputs": [
    {
     "data": {
      "text/plain": [
       "['MMSI_1_# Timestamp_1', '_id_']"
      ]
     },
     "execution_count": 13,
     "metadata": {},
     "output_type": "execute_result"
    }
   ],
   "source": [
    "sorted(list(raw_collection.index_information()))"
   ]
  },
  {
   "cell_type": "markdown",
   "id": "5161e082",
   "metadata": {},
   "source": [
    "## Task 3: Data Noise Filtering (Sequential)\n",
    "Filtering noise from `ais_raw_data_seq` and storing in `ais_filtered_data_seq`."
   ]
  },
  {
   "cell_type": "code",
   "execution_count": 14,
   "id": "1d00a1a5",
   "metadata": {},
   "outputs": [
    {
     "name": "stdout",
     "output_type": "stream",
     "text": [
      "Found 749 vessels with >= 100 data points to filter.\n"
     ]
    }
   ],
   "source": [
    "# Identifying vessels with >= 100 data points\n",
    "\n",
    "pipeline = [\n",
    "    {'$group': {'_id': '$MMSI', 'count': {'$sum': 1}}},\n",
    "    {'$match': {'count': {'$gte': 100}}}\n",
    "]\n",
    "mmsi_docs_to_process = list(raw_collection.aggregate(pipeline))\n",
    "mmsis_to_filter = [doc['_id'] for doc in mmsi_docs_to_process]\n",
    "print(f\"Found {len(mmsis_to_filter)} vessels with >= 100 data points to filter.\")"
   ]
  },
  {
   "cell_type": "code",
   "execution_count": 15,
   "id": "f303e7aa",
   "metadata": {},
   "outputs": [],
   "source": [
    "filtered_collection = db[FILTERED_COLLECTION_NAME]\n",
    "raw_collection = db[RAW_COLLECTION_NAME]"
   ]
  },
  {
   "cell_type": "code",
   "execution_count": 16,
   "id": "955f253c",
   "metadata": {},
   "outputs": [
    {
     "name": "stdout",
     "output_type": "stream",
     "text": [
      "0\n"
     ]
    },
    {
     "data": {
      "text/plain": [
       "'MMSI_1_# Timestamp_1'"
      ]
     },
     "execution_count": 16,
     "metadata": {},
     "output_type": "execute_result"
    }
   ],
   "source": [
    "filtered_collection.drop()\n",
    "print(filtered_collection.count_documents({}))\n",
    "\n",
    "filtered_collection.create_index([(\"MMSI\", ASCENDING), (\"# Timestamp\", ASCENDING)])"
   ]
  },
  {
   "cell_type": "code",
   "execution_count": 17,
   "id": "fa0899f5",
   "metadata": {},
   "outputs": [
    {
     "name": "stderr",
     "output_type": "stream",
     "text": [
      "100%|██████████| 749/749 [00:04<00:00, 173.76it/s]\n"
     ]
    },
    {
     "name": "stdout",
     "output_type": "stream",
     "text": [
      "Total documents inserted in filtered collection: 113342\n"
     ]
    }
   ],
   "source": [
    "total_filtered_inserted = 0\n",
    "\n",
    "required_fields = ['MMSI', 'Latitude', 'Longitude', 'ROT', 'SOG', 'COG', 'Heading']\n",
    "nav_status_field = 'Navigational status'\n",
    "invalid_nav_status = 'Unknown value'\n",
    "\n",
    "def filter_vessel_data(vessel_data):\n",
    "    filtered_points = []\n",
    "    for point in vessel_data:\n",
    "        is_valid_point = True\n",
    "        for field in required_fields:\n",
    "            value = point.get(field)\n",
    "            if value is None or (isinstance(value, float) and np.isnan(value)):\n",
    "                is_valid_point = False\n",
    "                break\n",
    "        if not is_valid_point: continue\n",
    "\n",
    "        nav_status = point.get(nav_status_field)\n",
    "        if nav_status is None or nav_status == invalid_nav_status:\n",
    "            is_valid_point = False\n",
    "        \n",
    "        if is_valid_point:\n",
    "            filtered_points.append(point)\n",
    "    \n",
    "    return filtered_points\n",
    "\n",
    "\n",
    "def process_vessel_data(mmsi):\n",
    "    process_client = get_client()\n",
    "    process_db = process_client[DB_NAME]\n",
    "    process_collection = process_db[RAW_COLLECTION_NAME]\n",
    "    filtered_process_collection = process_db[FILTERED_COLLECTION_NAME]\n",
    "\n",
    "    vessel_data = list(process_collection.find({'MMSI': mmsi}).sort('# Timestamp', ASCENDING))\n",
    "    filtered_points_for_mmsi = filter_vessel_data(vessel_data)\n",
    "    \n",
    "    if filtered_points_for_mmsi:\n",
    "        filtered_process_collection.insert_many(filtered_points_for_mmsi, ordered=False)\n",
    "        return len(filtered_points_for_mmsi)\n",
    "    return 0\n",
    "\n",
    "with mp.Pool(processes=num_processes) as pool:\n",
    "    results = tqdm(pool.imap_unordered(process_vessel_data, mmsis_to_filter), total=len(mmsis_to_filter))\n",
    "    total_filtered_inserted = sum(results)\n",
    "\n",
    "print(f\"Total documents inserted in filtered collection: {total_filtered_inserted}\")"
   ]
  },
  {
   "cell_type": "code",
   "execution_count": 18,
   "id": "91906f15",
   "metadata": {},
   "outputs": [
    {
     "name": "stdout",
     "output_type": "stream",
     "text": [
      "199999\n",
      "113342\n"
     ]
    }
   ],
   "source": [
    "print(raw_collection.count_documents({}))\n",
    "print(filtered_collection.count_documents({}))"
   ]
  },
  {
   "cell_type": "markdown",
   "id": "891b1532",
   "metadata": {},
   "source": [
    "## Task 4: Calculation of Delta t and Histogram Generation (Sequential)\n",
    "Calculating delta_t for vessels in `ais_filtered_data_seq` and generating a histogram."
   ]
  },
  {
   "cell_type": "code",
   "execution_count": 19,
   "id": "18cca283",
   "metadata": {},
   "outputs": [
    {
     "name": "stdout",
     "output_type": "stream",
     "text": [
      "Found 594 distinct MMSIs for delta_t.\n"
     ]
    },
    {
     "name": "stderr",
     "output_type": "stream",
     "text": [
      "Calculating delta_t: 100%|██████████| 594/594 [00:01<00:00, 517.31it/s]"
     ]
    },
    {
     "name": "stdout",
     "output_type": "stream",
     "text": [
      "Total delta_t values collected: 112748\n"
     ]
    },
    {
     "name": "stderr",
     "output_type": "stream",
     "text": [
      "\n"
     ]
    }
   ],
   "source": [
    "all_delta_t_values = []\n",
    "filtered_collection = db[FILTERED_COLLECTION_NAME]\n",
    "\n",
    "distinct_mmsis_for_dt = filtered_collection.distinct('MMSI')\n",
    "print(f\"Found {len(distinct_mmsis_for_dt)} distinct MMSIs for delta_t.\")\n",
    "\n",
    "for i, mmsi in tqdm(enumerate(distinct_mmsis_for_dt), total=len(distinct_mmsis_for_dt), desc=\"Calculating delta_t\"):\n",
    "    vessel_data = list(filtered_collection.find({'MMSI': mmsi}).sort('# Timestamp', ASCENDING))\n",
    "    delta_t_values_for_mmsi = []\n",
    "    if len(vessel_data) > 1:\n",
    "        for k in range(len(vessel_data) - 1):\n",
    "            t1 = vessel_data[k]['# Timestamp']\n",
    "            t2 = vessel_data[k+1]['# Timestamp']\n",
    "            if isinstance(t1, datetime) and isinstance(t2, datetime):\n",
    "                delta = (t2 - t1).total_seconds() * 1000 # milliseconds\n",
    "                if delta >= 0: # Ensure non-negative delta_t\n",
    "                        delta_t_values_for_mmsi.append(delta)\n",
    "            else:\n",
    "                print(f\"Warning: Non-datetime object for MMSI {mmsi}, index {k}. t1:{type(t1)}, t2:{type(t2)}\")\n",
    "    all_delta_t_values.extend(delta_t_values_for_mmsi)\n",
    "\n",
    "    # print(f\"Delta_t for MMSI {i+1}/{len(distinct_mmsis_for_dt)} ({mmsi}). Found {len(delta_t_values_for_mmsi)} values.\")\n",
    "\n",
    "print(f\"Total delta_t values collected: {len(all_delta_t_values)}\")"
   ]
  },
  {
   "cell_type": "code",
   "execution_count": 20,
   "id": "63442679",
   "metadata": {},
   "outputs": [
    {
     "name": "stdout",
     "output_type": "stream",
     "text": [
      "Delta_t stats (ms): Min: 1000.00, Max: 300000.00, Mean: 9456.24, Median: 10000.00\n"
     ]
    },
    {
     "data": {
      "image/png": "[encoded data removed]",
      "text/plain": [
       "<Figure size 1200x700 with 1 Axes>"
      ]
     },
     "metadata": {},
     "output_type": "display_data"
    }
   ],
   "source": [
    "plt.figure(figsize=(12, 7))\n",
    "\n",
    "positive_delta_t = [dt for dt in all_delta_t_values if dt > 0] \n",
    "\n",
    "plt.hist(positive_delta_t, bins=100, edgecolor='black')\n",
    "plt.yscale('log', nonpositive='clip')\n",
    "plt.title('Histogram of Delta t values (ms) between AIS data points')\n",
    "print(f\"Delta_t stats (ms): Min: {np.min(positive_delta_t):.2f}, Max: {np.max(positive_delta_t):.2f}, Mean: {np.mean(positive_delta_t):.2f}, Median: {np.median(positive_delta_t):.2f}\")\n",
    "\n",
    "plt.xlabel('Delta t (milliseconds)')\n",
    "plt.ylabel('Frequency (log scale)')\n",
    "plt.grid(True, which=\"both\", linestyle='--')\n",
    "plt.show()"
   ]
  },
  {
   "cell_type": "code",
   "execution_count": null,
   "id": "576fcaef",
   "metadata": {},
   "outputs": [],
   "source": [
    "main_client.close() "
   ]
  }
 ],
 "metadata": {
  "kernelspec": {
   "display_name": "bigdata_task3-3.10",
   "language": "python",
   "name": "python3"
  },
  "language_info": {
   "codemirror_mode": {
    "name": "ipython",
    "version": 3
   },
   "file_extension": ".py",
   "mimetype": "text/x-python",
   "name": "python",
   "nbconvert_exporter": "python",
   "pygments_lexer": "ipython3",
   "version": "3.10.15"
  }
 },
 "nbformat": 4,
 "nbformat_minor": 5
}

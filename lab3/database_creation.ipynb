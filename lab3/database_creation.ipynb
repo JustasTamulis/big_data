{
 "cells": [
  {
   "cell_type": "markdown",
   "id": "925f7931",
   "metadata": {},
   "source": [
    "### Notebook that walks through creation of database cluster using docker\n",
    "\n",
    "Resources used:\n",
    "- https://pymongo.readthedocs.io/en/stable/examples/high_availability.html\n",
    "- https://www.mongodb.com/resources/products/compatibilities/deploying-a-mongodb-cluster-with-docker"
   ]
  },
  {
   "cell_type": "markdown",
   "id": "f7ba249a",
   "metadata": {},
   "source": [
    "Create a Docker Network\n",
    "\n",
    "`docker network create mongoCluster`\n",
    "\n",
    "Run docker instances\n",
    "\n",
    "`docker-compose up -d`"
   ]
  },
  {
   "cell_type": "code",
   "execution_count": null,
   "id": "ccec5d5b",
   "metadata": {},
   "outputs": [],
   "source": [
    "from pymongo import MongoClient"
   ]
  },
  {
   "cell_type": "code",
   "execution_count": 11,
   "id": "7530d41e",
   "metadata": {},
   "outputs": [
    {
     "name": "stdout",
     "output_type": "stream",
     "text": [
      "\u001b]0;mongosh mongodb://127.0.0.1:27017/?directConnection=true&serverSelectionTimeoutMS=2000\u0007MongoServerError: no replset config has been received\n"
     ]
    }
   ],
   "source": [
    "# Check whether replication is working\n",
    "!docker exec -it mongo1 mongosh --eval \"rs.status()\""
   ]
  },
  {
   "cell_type": "code",
   "execution_count": 12,
   "id": "58738420",
   "metadata": {},
   "outputs": [
    {
     "data": {
      "text/plain": [
       "{'ok': 1.0,\n",
       " '$clusterTime': {'clusterTime': Timestamp(1746794335, 1),\n",
       "  'signature': {'hash': b'\\x00\\x00\\x00\\x00\\x00\\x00\\x00\\x00\\x00\\x00\\x00\\x00\\x00\\x00\\x00\\x00\\x00\\x00\\x00\\x00',\n",
       "   'keyId': 0}},\n",
       " 'operationTime': Timestamp(1746794335, 1)}"
      ]
     },
     "execution_count": 12,
     "metadata": {},
     "output_type": "execute_result"
    }
   ],
   "source": [
    "# Initialize the replica set - only once\n",
    "\n",
    "client = MongoClient('localhost', 27017, directConnection=True)\n",
    "\n",
    "config = {'_id': 'myReplicaSet', 'members': [\n",
    "    {'_id': 0, 'host': 'mongo1:27017'},\n",
    "    {'_id': 1, 'host': 'mongo2:27017'},\n",
    "    {'_id': 2, 'host': 'mongo3:27017'}\n",
    "]}\n",
    " \n",
    "client.admin.command(\"replSetInitiate\", config)"
   ]
  },
  {
   "cell_type": "code",
   "execution_count": 13,
   "id": "3cf2043c",
   "metadata": {},
   "outputs": [
    {
     "name": "stdout",
     "output_type": "stream",
     "text": [
      "\u001b]0;mongosh mongodb://127.0.0.1:27017/?directConnection=true&serverSelectionTimeoutMS=2000\u0007{\n",
      "  set: \u001b[32m'myReplicaSet'\u001b[39m,\n",
      "  date: ISODate('2025-05-09T12:38:56.519Z'),\n",
      "  myState: \u001b[33m2\u001b[39m,\n",
      "  term: Long(\u001b[32m'0'\u001b[39m),\n",
      "  syncSourceHost: \u001b[32m''\u001b[39m,\n",
      "  syncSourceId: \u001b[33m-1\u001b[39m,\n",
      "  heartbeatIntervalMillis: Long(\u001b[32m'2000'\u001b[39m),\n",
      "  majorityVoteCount: \u001b[33m2\u001b[39m,\n",
      "  writeMajorityCount: \u001b[33m2\u001b[39m,\n",
      "  votingMembersCount: \u001b[33m3\u001b[39m,\n",
      "  writableVotingMembersCount: \u001b[33m3\u001b[39m,\n",
      "  optimes: {\n",
      "    lastCommittedOpTime: { ts: Timestamp({ t: \u001b[33m1746794335\u001b[39m, i: \u001b[33m1\u001b[39m }), t: Long(\u001b[32m'-1'\u001b[39m) },\n",
      "    lastCommittedWallTime: ISODate('2025-05-09T12:38:55.207Z'),\n",
      "    readConcernMajorityOpTime: { ts: Timestamp({ t: \u001b[33m1746794335\u001b[39m, i: \u001b[33m1\u001b[39m }), t: Long(\u001b[32m'-1'\u001b[39m) },\n",
      "    appliedOpTime: { ts: Timestamp({ t: \u001b[33m1746794335\u001b[39m, i: \u001b[33m1\u001b[39m }), t: Long(\u001b[32m'-1'\u001b[39m) },\n",
      "    durableOpTime: { ts: Timestamp({ t: \u001b[33m1746794335\u001b[39m, i: \u001b[33m1\u001b[39m }), t: Long(\u001b[32m'-1'\u001b[39m) },\n",
      "    writtenOpTime: { ts: Timestamp({ t: \u001b[33m1746794335\u001b[39m, i: \u001b[33m1\u001b[39m }), t: Long(\u001b[32m'-1'\u001b[39m) },\n",
      "    lastAppliedWallTime: ISODate('2025-05-09T12:38:55.207Z'),\n",
      "    lastDurableWallTime: ISODate('2025-05-09T12:38:55.207Z'),\n",
      "    lastWrittenWallTime: ISODate('2025-05-09T12:38:55.207Z')\n",
      "  },\n",
      "  lastStableRecoveryTimestamp: Timestamp({ t: \u001b[33m1746794335\u001b[39m, i: \u001b[33m1\u001b[39m }),\n",
      "  members: [\n",
      "    {\n",
      "      _id: \u001b[33m0\u001b[39m,\n",
      "      name: \u001b[32m'mongo1:27017'\u001b[39m,\n",
      "      health: \u001b[33m1\u001b[39m,\n",
      "      state: \u001b[33m2\u001b[39m,\n",
      "      stateStr: \u001b[32m'SECONDARY'\u001b[39m,\n",
      "      uptime: \u001b[33m7\u001b[39m,\n",
      "      optime: { ts: Timestamp({ t: \u001b[33m1746794335\u001b[39m, i: \u001b[33m1\u001b[39m }), t: Long(\u001b[32m'-1'\u001b[39m) },\n",
      "      optimeDate: ISODate('2025-05-09T12:38:55.000Z'),\n",
      "      optimeWritten: { ts: Timestamp({ t: \u001b[33m1746794335\u001b[39m, i: \u001b[33m1\u001b[39m }), t: Long(\u001b[32m'-1'\u001b[39m) },\n",
      "      optimeWrittenDate: ISODate('2025-05-09T12:38:55.000Z'),\n",
      "      lastAppliedWallTime: ISODate('2025-05-09T12:38:55.207Z'),\n",
      "      lastDurableWallTime: ISODate('2025-05-09T12:38:55.207Z'),\n",
      "      lastWrittenWallTime: ISODate('2025-05-09T12:38:55.207Z'),\n",
      "      syncSourceHost: \u001b[32m''\u001b[39m,\n",
      "      syncSourceId: \u001b[33m-1\u001b[39m,\n",
      "      infoMessage: \u001b[32m''\u001b[39m,\n",
      "      configVersion: \u001b[33m1\u001b[39m,\n",
      "      configTerm: \u001b[33m0\u001b[39m,\n",
      "      self: \u001b[33mtrue\u001b[39m,\n",
      "      lastHeartbeatMessage: \u001b[32m''\u001b[39m\n",
      "    },\n",
      "    {\n",
      "      _id: \u001b[33m1\u001b[39m,\n",
      "      name: \u001b[32m'mongo2:27017'\u001b[39m,\n",
      "      health: \u001b[33m1\u001b[39m,\n",
      "      state: \u001b[33m2\u001b[39m,\n",
      "      stateStr: \u001b[32m'SECONDARY'\u001b[39m,\n",
      "      uptime: \u001b[33m1\u001b[39m,\n",
      "      optime: { ts: Timestamp({ t: \u001b[33m1746794335\u001b[39m, i: \u001b[33m1\u001b[39m }), t: Long(\u001b[32m'-1'\u001b[39m) },\n",
      "      optimeDurable: { ts: Timestamp({ t: \u001b[33m1746794335\u001b[39m, i: \u001b[33m1\u001b[39m }), t: Long(\u001b[32m'-1'\u001b[39m) },\n",
      "      optimeWritten: { ts: Timestamp({ t: \u001b[33m1746794335\u001b[39m, i: \u001b[33m1\u001b[39m }), t: Long(\u001b[32m'-1'\u001b[39m) },\n",
      "      optimeDate: ISODate('2025-05-09T12:38:55.000Z'),\n",
      "      optimeDurableDate: ISODate('2025-05-09T12:38:55.000Z'),\n",
      "      optimeWrittenDate: ISODate('2025-05-09T12:38:55.000Z'),\n",
      "      lastAppliedWallTime: ISODate('2025-05-09T12:38:55.207Z'),\n",
      "      lastDurableWallTime: ISODate('2025-05-09T12:38:55.207Z'),\n",
      "      lastWrittenWallTime: ISODate('2025-05-09T12:38:55.207Z'),\n",
      "      lastHeartbeat: ISODate('2025-05-09T12:38:56.228Z'),\n",
      "      lastHeartbeatRecv: ISODate('2025-05-09T12:38:56.273Z'),\n",
      "      pingMs: Long(\u001b[32m'0'\u001b[39m),\n",
      "      lastHeartbeatMessage: \u001b[32m''\u001b[39m,\n",
      "      syncSourceHost: \u001b[32m''\u001b[39m,\n",
      "      syncSourceId: \u001b[33m-1\u001b[39m,\n",
      "      infoMessage: \u001b[32m''\u001b[39m,\n",
      "      configVersion: \u001b[33m1\u001b[39m,\n",
      "      configTerm: \u001b[33m0\u001b[39m\n",
      "    },\n",
      "    {\n",
      "      _id: \u001b[33m2\u001b[39m,\n",
      "      name: \u001b[32m'mongo3:27017'\u001b[39m,\n",
      "      health: \u001b[33m1\u001b[39m,\n",
      "      state: \u001b[33m2\u001b[39m,\n",
      "      stateStr: \u001b[32m'SECONDARY'\u001b[39m,\n",
      "      uptime: \u001b[33m1\u001b[39m,\n",
      "      optime: { ts: Timestamp({ t: \u001b[33m1746794335\u001b[39m, i: \u001b[33m1\u001b[39m }), t: Long(\u001b[32m'-1'\u001b[39m) },\n",
      "      optimeDurable: { ts: Timestamp({ t: \u001b[33m1746794335\u001b[39m, i: \u001b[33m1\u001b[39m }), t: Long(\u001b[32m'-1'\u001b[39m) },\n",
      "      optimeWritten: { ts: Timestamp({ t: \u001b[33m1746794335\u001b[39m, i: \u001b[33m1\u001b[39m }), t: Long(\u001b[32m'-1'\u001b[39m) },\n",
      "      optimeDate: ISODate('2025-05-09T12:38:55.000Z'),\n",
      "      optimeDurableDate: ISODate('2025-05-09T12:38:55.000Z'),\n",
      "      optimeWrittenDate: ISODate('2025-05-09T12:38:55.000Z'),\n",
      "      lastAppliedWallTime: ISODate('2025-05-09T12:38:55.207Z'),\n",
      "      lastDurableWallTime: ISODate('2025-05-09T12:38:55.207Z'),\n",
      "      lastWrittenWallTime: ISODate('2025-05-09T12:38:55.207Z'),\n",
      "      lastHeartbeat: ISODate('2025-05-09T12:38:56.228Z'),\n",
      "      lastHeartbeatRecv: ISODate('2025-05-09T12:38:56.274Z'),\n",
      "      pingMs: Long(\u001b[32m'0'\u001b[39m),\n",
      "      lastHeartbeatMessage: \u001b[32m''\u001b[39m,\n",
      "      syncSourceHost: \u001b[32m''\u001b[39m,\n",
      "      syncSourceId: \u001b[33m-1\u001b[39m,\n",
      "      infoMessage: \u001b[32m''\u001b[39m,\n",
      "      configVersion: \u001b[33m1\u001b[39m,\n",
      "      configTerm: \u001b[33m0\u001b[39m\n",
      "    }\n",
      "  ],\n",
      "  ok: \u001b[33m1\u001b[39m,\n",
      "  \u001b[32m'$clusterTime'\u001b[39m: {\n",
      "    clusterTime: Timestamp({ t: \u001b[33m1746794335\u001b[39m, i: \u001b[33m1\u001b[39m }),\n",
      "    signature: {\n",
      "      hash: Binary.createFromBase64(\u001b[32m'AAAAAAAAAAAAAAAAAAAAAAAAAAA='\u001b[39m, \u001b[33m0\u001b[39m),\n",
      "      keyId: Long(\u001b[32m'0'\u001b[39m)\n",
      "    }\n",
      "  },\n",
      "  operationTime: Timestamp({ t: \u001b[33m1746794335\u001b[39m, i: \u001b[33m1\u001b[39m })\n",
      "}\n"
     ]
    }
   ],
   "source": [
    "# Check again\n",
    "\n",
    "!docker exec -it mongo1 mongosh --eval \"rs.status()\""
   ]
  },
  {
   "cell_type": "code",
   "execution_count": 14,
   "id": "94e87f64",
   "metadata": {},
   "outputs": [],
   "source": [
    "client = MongoClient('localhost', 27017, directConnection=True)"
   ]
  },
  {
   "cell_type": "code",
   "execution_count": 15,
   "id": "a0151782",
   "metadata": {},
   "outputs": [
    {
     "data": {
      "text/plain": [
       "{'ok': 1.0,\n",
       " '$clusterTime': {'clusterTime': Timestamp(1746794335, 1),\n",
       "  'signature': {'hash': b'\\x00\\x00\\x00\\x00\\x00\\x00\\x00\\x00\\x00\\x00\\x00\\x00\\x00\\x00\\x00\\x00\\x00\\x00\\x00\\x00',\n",
       "   'keyId': 0}},\n",
       " 'operationTime': Timestamp(1746794335, 1)}"
      ]
     },
     "execution_count": 15,
     "metadata": {},
     "output_type": "execute_result"
    }
   ],
   "source": [
    "client.admin.command('ping')"
   ]
  },
  {
   "cell_type": "code",
   "execution_count": 16,
   "id": "3b98379b",
   "metadata": {},
   "outputs": [
    {
     "name": "stdout",
     "output_type": "stream",
     "text": [
      "mongo1:27017 SECONDARY\n",
      "mongo2:27017 SECONDARY\n",
      "mongo3:27017 PRIMARY\n"
     ]
    }
   ],
   "source": [
    "from pprint import pprint\n",
    "\n",
    "# Health utils\n",
    "def print_member_status(client):\n",
    "    db = client.admin\n",
    "    rs_status = db.command({'replSetGetStatus': 1})\n",
    "\n",
    "    for m in rs_status['members']:\n",
    "        print(m['name'], m['stateStr'])\n",
    "\n",
    "print_member_status(client)"
   ]
  }
 ],
 "metadata": {
  "kernelspec": {
   "display_name": "bigdata_task3-3.10",
   "language": "python",
   "name": "python3"
  },
  "language_info": {
   "codemirror_mode": {
    "name": "ipython",
    "version": 3
   },
   "file_extension": ".py",
   "mimetype": "text/x-python",
   "name": "python",
   "nbconvert_exporter": "python",
   "pygments_lexer": "ipython3",
   "version": "3.10.15"
  }
 },
 "nbformat": 4,
 "nbformat_minor": 5
}

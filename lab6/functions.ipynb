{
 "cells": [
  {
   "cell_type": "markdown",
   "id": "5e922437",
   "metadata": {},
   "source": [
    "# Functions to be used for the task\n",
    "\n",
    "Purpose of this notebook is to create functions that will be used later. These are sequential functions."
   ]
  },
  {
   "cell_type": "code",
   "execution_count": 1,
   "id": "a198e0f2",
   "metadata": {},
   "outputs": [],
   "source": [
    "import pandas as pd\n",
    "import folium\n",
    "\n",
    "df = pd.read_csv('bike_rent/202101-divvy-tripdata.csv')\n",
    "df = df.sample(1000)"
   ]
  },
  {
   "cell_type": "code",
   "execution_count": 2,
   "id": "eb4ff4e1",
   "metadata": {},
   "outputs": [
    {
     "name": "stdout",
     "output_type": "stream",
     "text": [
      "Initial number of rows: 1000\n",
      "Number of rows after filtering: 835\n"
     ]
    }
   ],
   "source": [
    "# DataFrame -> DataFrame\n",
    "\n",
    "# 1. filter and prepare data\n",
    "#     - remove NA\n",
    "#     - remove long durations \n",
    "#     - leave only from known station to station\n",
    "#     - calculate the actual duration (time end - time start)\n",
    "\n",
    "def filter_and_prepare_data(df):\n",
    "    # Remove rows with NA in start_station_id or end_station_id\n",
    "    df = df.dropna(subset=['start_station_id', 'end_station_id']).reset_index(drop=True)\n",
    "    \n",
    "    # Convert the 'started_at' and 'ended_at' columns to datetime\n",
    "    df['started_at'] = pd.to_datetime(df['started_at'])\n",
    "    df['ended_at'] = pd.to_datetime(df['ended_at'])\n",
    "    \n",
    "    # Calculate duration in seconds\n",
    "    df['duration'] = (df['ended_at'] - df['started_at']).dt.total_seconds()\n",
    "    \n",
    "    # Filter by duration, keeping trips from 1 minute to 1 hour\n",
    "    df = df[(df['duration'] >= 60) & (df['duration'] <= 3600)].reset_index(drop=True)\n",
    "    \n",
    "    return df\n",
    "\n",
    "print(f\"Initial number of rows: {len(df)}\")\n",
    "df = filter_and_prepare_data(df)\n",
    "print(f\"Number of rows after filtering: {len(df)}\")"
   ]
  },
  {
   "cell_type": "code",
   "execution_count": 3,
   "id": "af2814f9",
   "metadata": {},
   "outputs": [],
   "source": [
    "# DataFrame -> dict\n",
    "\n",
    "# 2. check stats\n",
    "#     - distribution per type, membership\n",
    "#     - count each day total trips\n",
    "\n",
    "def get_stats(df):\n",
    "    bike_counts = df.rideable_type.value_counts().to_dict()\n",
    "    member_counts = df.member_casual.value_counts().to_dict()\n",
    "    daily_counts = df['started_at'].dt.date.value_counts().sort_index().to_dict()\n",
    "\n",
    "    stats = {\n",
    "        'bike_counts': bike_counts,\n",
    "        'member_counts': member_counts,\n",
    "        'daily_counts': daily_counts\n",
    "    }\n",
    "\n",
    "    return stats\n",
    "\n",
    "def join_stats(stats):\n",
    "    \"\"\"\n",
    "    Join multiple stats dictionaries into one.\n",
    "    \"\"\"\n",
    "    joined_stats = {\n",
    "        'bike_counts': {},\n",
    "        'member_counts': {},\n",
    "        'daily_counts': {}\n",
    "    }\n",
    "\n",
    "    for stat in stats:\n",
    "        for key in joined_stats.keys():\n",
    "            for k, v in stat[key].items():\n",
    "                if k in joined_stats[key]:\n",
    "                    joined_stats[key][k] += v\n",
    "                else:\n",
    "                    joined_stats[key][k] = v\n",
    "\n",
    "    return joined_stats\n",
    "\n",
    "    \n",
    "# test join stats\n",
    "stat1 = get_stats(df.sample(10))\n",
    "stat2 = get_stats(df.sample(10))\n",
    "joined_stat = join_stats([stat1, stat2])"
   ]
  },
  {
   "cell_type": "code",
   "execution_count": 4,
   "id": "6c79f364",
   "metadata": {},
   "outputs": [
    {
     "name": "stdout",
     "output_type": "stream",
     "text": [
      "147\n",
      "395\n"
     ]
    }
   ],
   "source": [
    "# DataFrame, station_dict -> station_dict\n",
    "\n",
    "# 3. preprocess stations:\n",
    "#     - for each station, find the center\n",
    "#     - create a dict with station_id as key and (lat, lon) as value\n",
    "\n",
    "def get_station_coordinates(df, station_coords):\n",
    "\n",
    "    # Extract start and end station coordinates to one DataFrame\n",
    "    start_coords = df[['start_station_id', 'start_lat', 'start_lng']]\n",
    "    end_coords = df[['end_station_id', 'end_lat', 'end_lng']]\n",
    "    start_coords = start_coords.rename(columns={\n",
    "        'start_station_id': 'station_id',\n",
    "        'start_lat': 'latitude',\n",
    "        'start_lng': 'longitude'\n",
    "    })\n",
    "    end_coords = end_coords.rename(columns={\n",
    "        'end_station_id': 'station_id',\n",
    "        'end_lat': 'latitude',\n",
    "        'end_lng': 'longitude'\n",
    "    })\n",
    "    all_coords = pd.concat([start_coords, end_coords])\n",
    "\n",
    "    # Remove existing stations from the DataFrame\n",
    "    all_coords = all_coords[~ all_coords.station_id.isin(station_coords.keys())]\n",
    "    \n",
    "    # Calculate the median coordinates for each station\n",
    "    all_coords = all_coords.groupby('station_id').median().reset_index()\n",
    "    new_station_coords = all_coords.set_index('station_id').T.to_dict('list')\n",
    "    \n",
    "    # Update then dict and return\n",
    "    return station_coords | new_station_coords\n",
    "\n",
    "station_coords = {}\n",
    "station_coords = get_station_coordinates(df.sample(100), station_coords)\n",
    "print(len(station_coords))\n",
    "station_coords = get_station_coordinates(df, station_coords)\n",
    "print(len(station_coords))"
   ]
  },
  {
   "cell_type": "code",
   "execution_count": 5,
   "id": "b5d560d0",
   "metadata": {},
   "outputs": [],
   "source": [
    "# 4. calculate the shortest routes' durations\n",
    "#     - go through all trips\n",
    "#     - save the duration (from start_id, to end_id), reuse it (lookup table)\n",
    "#     - append the shortest durations\n",
    "\n",
    "import networkx as nx\n",
    "import osmnx as ox\n",
    "\n",
    "MEAN_LAT = 41.90234770710154\n",
    "MEAN_LNG = -87.64440345010253\n",
    "\n",
    "\n",
    "def load_graph():\n",
    "    # Create a graph from the center of the data\n",
    "    G = ox.graph_from_point((MEAN_LAT, MEAN_LNG), dist=5000, network_type=\"bike\")\n",
    "\n",
    "    # Optionally, save and then load the graph\n",
    "    # ox.save_graphml(G, \"my_graph.graphml\")\n",
    "    # G = ox.load_graphml(\"my_graph.graphml\")\n",
    "\n",
    "    # assign speeds constant speed to all edges\n",
    "    nx.set_edge_attributes(G, values=10, name=\"speed_kph\")\n",
    "\n",
    "    # convert length+speed → seconds\n",
    "    G = ox.add_edge_travel_times(G)\n",
    "\n",
    "    return G\n",
    "\n",
    "G = load_graph()\n"
   ]
  },
  {
   "cell_type": "code",
   "execution_count": 8,
   "id": "c9707a3a",
   "metadata": {},
   "outputs": [
    {
     "name": "stdout",
     "output_type": "stream",
     "text": [
      "Fastest travel time from (41.895501, -87.682017) to (41.871262, -87.673688): 1179.236831503033 seconds\n"
     ]
    }
   ],
   "source": [
    "def calculate_fastest_travel_time(G, start_lat, start_lng, end_lat, end_lng):\n",
    "    # In the graph, get the nodes closest to the points\n",
    "    origin_node = ox.nearest_nodes(G, Y=start_lat, X=start_lng)\n",
    "    destination_node = ox.nearest_nodes(G, Y=end_lat, X=end_lng)\n",
    "\n",
    "    # compute travel time in seconds\n",
    "    try:\n",
    "        travel_time_in_seconds = nx.shortest_path_length(G, origin_node, destination_node, weight='travel_time')\n",
    "    except nx.NetworkXNoPath:\n",
    "        print(f\"No path found from ({start_lat}, {start_lng}) to ({end_lat}, {end_lng})\")\n",
    "        return -1\n",
    "    \n",
    "    return travel_time_in_seconds\n",
    "\n",
    "\n",
    "# for the sake of an example\n",
    "test = df.iloc[0]\n",
    "start_lat = test.start_lat\n",
    "start_lng = test.start_lng\n",
    "end_lat = test.end_lat\n",
    "end_lng = test.end_lng\n",
    "\n",
    "print(f\"Fastest travel time from ({start_lat}, {start_lng}) to ({end_lat}, {end_lng}): \"\n",
    "        f\"{calculate_fastest_travel_time(G, start_lat, start_lng, end_lat, end_lng)} seconds\")"
   ]
  },
  {
   "cell_type": "code",
   "execution_count": 9,
   "id": "d3105dee",
   "metadata": {},
   "outputs": [
    {
     "data": {
      "application/vnd.jupyter.widget-view+json": {
       "model_id": "f2606c5f474f48418ff8167817282bf0",
       "version_major": 2,
       "version_minor": 0
      },
      "text/plain": [
       "Calculating durations:   0%|          | 0/835 [00:00<?, ?trip/s]"
      ]
     },
     "metadata": {},
     "output_type": "display_data"
    },
    {
     "name": "stdout",
     "output_type": "stream",
     "text": [
      "No path found from (41.884241, -87.629634) to (41.881892, -87.648789)\n",
      "No path found from (41.884241, -87.629634) to (41.888243, -87.63639)\n",
      "No path found from (41.912222416666665, -87.63483725) to (41.89257, -87.614492)\n",
      "No path found from (41.884241, -87.629634) to (41.870816, -87.631246)\n",
      "No path found from (41.795212, -87.580715) to (41.89766, -87.62351)\n",
      "No path found from (41.884241, -87.629634) to (41.876268, -87.629155)\n",
      "No path found from (41.884241, -87.629634) to (41.90298533333333, -87.63423633333333)\n",
      "No path found from (41.87811603010527, -87.63983845710754) to (41.886024, -87.624117)\n",
      "No path found from (41.87811603010527, -87.63983845710754) to (41.8985866514, -87.6219152258)\n",
      "No path found from (41.884241, -87.629634) to (41.94018, -87.65304)\n",
      "No path found from (41.890173, -87.626185) to (41.89766, -87.62351)\n"
     ]
    }
   ],
   "source": [
    "from tqdm.notebook import tqdm\n",
    "\n",
    "tbar = tqdm(total=len(df), desc=\"Calculating durations\", unit=\"trip\")\n",
    "\n",
    "distance_cache = {} # (start_id, end_id) -> duration\n",
    "station_coords = station_coords # (station_id -> (lat, lon))\n",
    "\n",
    "durations = []\n",
    "for index, row in df.iterrows():\n",
    "    tbar.update(1)\n",
    "    start_id = row['start_station_id']\n",
    "    end_id = row['end_station_id']\n",
    "    \n",
    "    # Check if the duration is already cached\n",
    "    if (start_id, end_id) in distance_cache:\n",
    "        duration = distance_cache[(start_id, end_id)]\n",
    "    else:\n",
    "        start_lat, start_lng = station_coords[start_id]\n",
    "        end_lat, end_lng = station_coords[end_id]\n",
    "        \n",
    "        # Calculate the travel time\n",
    "        duration = calculate_fastest_travel_time(G, start_lat, start_lng, end_lat, end_lng)\n",
    "        \n",
    "        # Cache the result\n",
    "        distance_cache[(start_id, end_id)] = duration\n",
    "    \n",
    "    durations.append(duration)"
   ]
  },
  {
   "cell_type": "code",
   "execution_count": 15,
   "id": "0088239b",
   "metadata": {},
   "outputs": [
    {
     "data": {
      "text/plain": [
       "<Axes: >"
      ]
     },
     "execution_count": 15,
     "metadata": {},
     "output_type": "execute_result"
    },
    {
     "data": {
      "image/png": "[encoded data removed]",
      "text/plain": [
       "<Figure size 1000x500 with 1 Axes>"
      ]
     },
     "metadata": {},
     "output_type": "display_data"
    }
   ],
   "source": [
    "df[\"fastest_duration\"] = durations\n",
    "df[\"fastest_duration\"].hist(bins=50, figsize=(10, 5))"
   ]
  },
  {
   "cell_type": "code",
   "execution_count": 17,
   "id": "3a86aea2",
   "metadata": {},
   "outputs": [
    {
     "data": {
      "text/plain": [
       "835"
      ]
     },
     "execution_count": 17,
     "metadata": {},
     "output_type": "execute_result"
    }
   ],
   "source": [
    "len(df)"
   ]
  },
  {
   "cell_type": "code",
   "execution_count": 19,
   "id": "9cc43305",
   "metadata": {},
   "outputs": [
    {
     "name": "stdout",
     "output_type": "stream",
     "text": [
      "Number of rows after filtering slow riders: 559\n"
     ]
    }
   ],
   "source": [
    "# 5. filter \n",
    "#     - remove routes which took much longer than the shortest possible duration (20% longer)\n",
    "\n",
    "def filter_slow_riders(df, threshold=1.1):\n",
    "    \"\"\"\n",
    "    Filter out trips where the actual duration is more than `threshold` times the fastest duration.\n",
    "    This automatically drops -1 durations as well.\n",
    "    \"\"\"\n",
    "    df = df[df['duration'] <= df['fastest_duration'] * threshold].reset_index(drop=True)\n",
    "    return df\n",
    "\n",
    "df = filter_slow_riders(df)\n",
    "print(f\"Number of rows after filtering slow riders: {len(df)}\")"
   ]
  },
  {
   "cell_type": "code",
   "execution_count": 20,
   "id": "46dc2f70",
   "metadata": {},
   "outputs": [],
   "source": [
    "# 6. check stats\n",
    "#     - distribution per type, membership\n",
    "#     - count each day total trips\n",
    "#     - compare to original stats\n",
    "\n",
    "fast_stats = get_stats(df)"
   ]
  },
  {
   "cell_type": "code",
   "execution_count": 22,
   "id": "0111c2b6",
   "metadata": {},
   "outputs": [
    {
     "ename": "AttributeError",
     "evalue": "'dict' object has no attribute 'hist'",
     "output_type": "error",
     "traceback": [
      "\u001b[0;31m---------------------------------------------------------------------------\u001b[0m",
      "\u001b[0;31mAttributeError\u001b[0m                            Traceback (most recent call last)",
      "Cell \u001b[0;32mIn[22], line 1\u001b[0m\n\u001b[0;32m----> 1\u001b[0m \u001b[43mfast_stats\u001b[49m\u001b[43m[\u001b[49m\u001b[38;5;124;43m\"\u001b[39;49m\u001b[38;5;124;43mdaily_counts\u001b[39;49m\u001b[38;5;124;43m\"\u001b[39;49m\u001b[43m]\u001b[49m\u001b[38;5;241;43m.\u001b[39;49m\u001b[43mhist\u001b[49m()\n",
      "\u001b[0;31mAttributeError\u001b[0m: 'dict' object has no attribute 'hist'"
     ]
    }
   ],
   "source": [
    "import matplotlib.pyplot as plt\n",
    "\n",
    "# Histogram of daily counts\n",
    "\n",
    "fast_stats[\"daily_counts\"]"
   ]
  },
  {
   "cell_type": "code",
   "execution_count": null,
   "id": "040ddbee",
   "metadata": {},
   "outputs": [],
   "source": [
    "\n",
    "# 7. plot the routes\n",
    "#     - group by start and end station\n",
    "#     - the more frequent the route is, the bigger the line"
   ]
  }
 ],
 "metadata": {
  "kernelspec": {
   "display_name": "bigdata_task6-3.10",
   "language": "python",
   "name": "python3"
  },
  "language_info": {
   "codemirror_mode": {
    "name": "ipython",
    "version": 3
   },
   "file_extension": ".py",
   "mimetype": "text/x-python",
   "name": "python",
   "nbconvert_exporter": "python",
   "pygments_lexer": "ipython3",
   "version": "3.10.15"
  }
 },
 "nbformat": 4,
 "nbformat_minor": 5
}

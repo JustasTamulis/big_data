{
 "cells": [
  {
   "cell_type": "markdown",
   "id": "5e922437",
   "metadata": {},
   "source": [
    "# Functions to be used for the task\n",
    "\n",
    "Purpose of this notebook is to create functions that will be used later. These are sequential functions."
   ]
  },
  {
   "cell_type": "code",
   "execution_count": 1,
   "id": "a198e0f2",
   "metadata": {},
   "outputs": [],
   "source": [
    "import pandas as pd\n",
    "import folium\n",
    "\n",
    "df = pd.read_csv('bike_rent/202101-divvy-tripdata.csv')\n",
    "df = df.sample(1000)"
   ]
  },
  {
   "cell_type": "code",
   "execution_count": 2,
   "id": "eb4ff4e1",
   "metadata": {},
   "outputs": [
    {
     "name": "stdout",
     "output_type": "stream",
     "text": [
      "Initial number of rows: 1000\n",
      "Number of rows after filtering: 835\n"
     ]
    }
   ],
   "source": [
    "# DataFrame -> DataFrame\n",
    "\n",
    "# 1. filter and prepare data\n",
    "#     - remove NA\n",
    "#     - remove long durations \n",
    "#     - leave only from known station to station\n",
    "#     - calculate the actual duration (time end - time start)\n",
    "\n",
    "def filter_and_prepare_data(df):\n",
    "    # Remove rows with NA in start_station_id or end_station_id\n",
    "    df = df.dropna(subset=['start_station_id', 'end_station_id']).reset_index(drop=True)\n",
    "    \n",
    "    # Convert the 'started_at' and 'ended_at' columns to datetime\n",
    "    df['started_at'] = pd.to_datetime(df['started_at'])\n",
    "    df['ended_at'] = pd.to_datetime(df['ended_at'])\n",
    "    \n",
    "    # Calculate duration in seconds\n",
    "    df['duration'] = (df['ended_at'] - df['started_at']).dt.total_seconds()\n",
    "    \n",
    "    # Filter by duration, keeping trips from 1 minute to 1 hour\n",
    "    df = df[(df['duration'] >= 60) & (df['duration'] <= 3600)].reset_index(drop=True)\n",
    "    \n",
    "    return df\n",
    "\n",
    "print(f\"Initial number of rows: {len(df)}\")\n",
    "df = filter_and_prepare_data(df)\n",
    "print(f\"Number of rows after filtering: {len(df)}\")"
   ]
  },
  {
   "cell_type": "code",
   "execution_count": 3,
   "id": "af2814f9",
   "metadata": {},
   "outputs": [],
   "source": [
    "# DataFrame -> dict\n",
    "\n",
    "# 2. check stats\n",
    "#     - distribution per type, membership\n",
    "#     - count each day total trips\n",
    "\n",
    "def get_stats(df):\n",
    "    bike_counts = df.rideable_type.value_counts().to_dict()\n",
    "    member_counts = df.member_casual.value_counts().to_dict()\n",
    "    daily_counts = df['started_at'].dt.date.value_counts().sort_index().to_dict()\n",
    "\n",
    "    stats = {\n",
    "        'bike_counts': bike_counts,\n",
    "        'member_counts': member_counts,\n",
    "        'daily_counts': daily_counts\n",
    "    }\n",
    "\n",
    "    return stats\n",
    "\n",
    "def join_stats(stats):\n",
    "    \"\"\"\n",
    "    Join multiple stats dictionaries into one.\n",
    "    \"\"\"\n",
    "    joined_stats = {\n",
    "        'bike_counts': {},\n",
    "        'member_counts': {},\n",
    "        'daily_counts': {}\n",
    "    }\n",
    "\n",
    "    for stat in stats:\n",
    "        for key in joined_stats.keys():\n",
    "            for k, v in stat[key].items():\n",
    "                if k in joined_stats[key]:\n",
    "                    joined_stats[key][k] += v\n",
    "                else:\n",
    "                    joined_stats[key][k] = v\n",
    "\n",
    "    return joined_stats\n",
    "\n",
    "    \n",
    "# test join stats\n",
    "stat1 = get_stats(df.sample(10))\n",
    "stat2 = get_stats(df.sample(10))\n",
    "joined_stat = join_stats([stat1, stat2])"
   ]
  },
  {
   "cell_type": "code",
   "execution_count": 24,
   "id": "2ace7c2e",
   "metadata": {},
   "outputs": [],
   "source": [
    "all_stats = get_stats(df)"
   ]
  },
  {
   "cell_type": "code",
   "execution_count": 4,
   "id": "6c79f364",
   "metadata": {},
   "outputs": [
    {
     "name": "stdout",
     "output_type": "stream",
     "text": [
      "147\n",
      "395\n"
     ]
    }
   ],
   "source": [
    "# DataFrame, station_dict -> station_dict\n",
    "\n",
    "# 3. preprocess stations:\n",
    "#     - for each station, find the center\n",
    "#     - create a dict with station_id as key and (lat, lon) as value\n",
    "\n",
    "def get_station_coordinates(df, station_coords):\n",
    "\n",
    "    # Extract start and end station coordinates to one DataFrame\n",
    "    start_coords = df[['start_station_id', 'start_lat', 'start_lng']]\n",
    "    end_coords = df[['end_station_id', 'end_lat', 'end_lng']]\n",
    "    start_coords = start_coords.rename(columns={\n",
    "        'start_station_id': 'station_id',\n",
    "        'start_lat': 'latitude',\n",
    "        'start_lng': 'longitude'\n",
    "    })\n",
    "    end_coords = end_coords.rename(columns={\n",
    "        'end_station_id': 'station_id',\n",
    "        'end_lat': 'latitude',\n",
    "        'end_lng': 'longitude'\n",
    "    })\n",
    "    all_coords = pd.concat([start_coords, end_coords])\n",
    "\n",
    "    # Remove existing stations from the DataFrame\n",
    "    all_coords = all_coords[~ all_coords.station_id.isin(station_coords.keys())]\n",
    "    \n",
    "    # Calculate the median coordinates for each station\n",
    "    all_coords = all_coords.groupby('station_id').median().reset_index()\n",
    "    new_station_coords = all_coords.set_index('station_id').T.to_dict('list')\n",
    "    \n",
    "    # Update then dict and return\n",
    "    return station_coords | new_station_coords\n",
    "\n",
    "station_coords = {}\n",
    "station_coords = get_station_coordinates(df.sample(100), station_coords)\n",
    "print(len(station_coords))\n",
    "station_coords = get_station_coordinates(df, station_coords)\n",
    "print(len(station_coords))"
   ]
  },
  {
   "cell_type": "code",
   "execution_count": 5,
   "id": "b5d560d0",
   "metadata": {},
   "outputs": [],
   "source": [
    "# 4. calculate the shortest routes' durations\n",
    "#     - go through all trips\n",
    "#     - save the duration (from start_id, to end_id), reuse it (lookup table)\n",
    "#     - append the shortest durations\n",
    "\n",
    "import networkx as nx\n",
    "import osmnx as ox\n",
    "\n",
    "MEAN_LAT = 41.90234770710154\n",
    "MEAN_LNG = -87.64440345010253\n",
    "\n",
    "\n",
    "def load_graph():\n",
    "    # Create a graph from the center of the data\n",
    "    G = ox.graph_from_point((MEAN_LAT, MEAN_LNG), dist=5000, network_type=\"bike\")\n",
    "\n",
    "    # Optionally, save and then load the graph\n",
    "    # ox.save_graphml(G, \"my_graph.graphml\")\n",
    "    # G = ox.load_graphml(\"my_graph.graphml\")\n",
    "\n",
    "    # assign speeds constant speed to all edges\n",
    "    nx.set_edge_attributes(G, values=10, name=\"speed_kph\")\n",
    "\n",
    "    # convert length+speed → seconds\n",
    "    G = ox.add_edge_travel_times(G)\n",
    "\n",
    "    return G\n",
    "\n",
    "G = load_graph()\n"
   ]
  },
  {
   "cell_type": "code",
   "execution_count": 8,
   "id": "c9707a3a",
   "metadata": {},
   "outputs": [
    {
     "name": "stdout",
     "output_type": "stream",
     "text": [
      "Fastest travel time from (41.895501, -87.682017) to (41.871262, -87.673688): 1179.236831503033 seconds\n"
     ]
    }
   ],
   "source": [
    "def calculate_fastest_travel_time(G, start_lat, start_lng, end_lat, end_lng):\n",
    "    # In the graph, get the nodes closest to the points\n",
    "    origin_node = ox.nearest_nodes(G, Y=start_lat, X=start_lng)\n",
    "    destination_node = ox.nearest_nodes(G, Y=end_lat, X=end_lng)\n",
    "\n",
    "    # compute travel time in seconds\n",
    "    try:\n",
    "        travel_time_in_seconds = nx.shortest_path_length(G, origin_node, destination_node, weight='travel_time')\n",
    "    except nx.NetworkXNoPath:\n",
    "        print(f\"No path found from ({start_lat}, {start_lng}) to ({end_lat}, {end_lng})\")\n",
    "        return -1\n",
    "    \n",
    "    return travel_time_in_seconds\n",
    "\n",
    "\n",
    "# for the sake of an example\n",
    "test = df.iloc[0]\n",
    "start_lat = test.start_lat\n",
    "start_lng = test.start_lng\n",
    "end_lat = test.end_lat\n",
    "end_lng = test.end_lng\n",
    "\n",
    "print(f\"Fastest travel time from ({start_lat}, {start_lng}) to ({end_lat}, {end_lng}): \"\n",
    "        f\"{calculate_fastest_travel_time(G, start_lat, start_lng, end_lat, end_lng)} seconds\")"
   ]
  },
  {
   "cell_type": "code",
   "execution_count": 31,
   "id": "d3105dee",
   "metadata": {},
   "outputs": [],
   "source": [
    "from tqdm.notebook import tqdm\n",
    "\n",
    "\n",
    "distance_cache = {} # (start_id, end_id) -> duration\n",
    "station_coords = station_coords # (station_id -> (lat, lon))\n",
    "\n",
    "def calculate_durations(df, G, station_coords):\n",
    "    tbar = tqdm(total=len(df), desc=\"Calculating durations\", unit=\"trip\")\n",
    "    durations = []\n",
    "    for index, row in df.iterrows():\n",
    "        tbar.update(1)\n",
    "        start_id = row['start_station_id']\n",
    "        end_id = row['end_station_id']\n",
    "        \n",
    "        # Check if the duration is already cached\n",
    "        if (start_id, end_id) in distance_cache:\n",
    "            duration = distance_cache[(start_id, end_id)]\n",
    "        else:\n",
    "            start_lat, start_lng = station_coords[start_id]\n",
    "            end_lat, end_lng = station_coords[end_id]\n",
    "            \n",
    "            # Calculate the travel time\n",
    "            duration = calculate_fastest_travel_time(G, start_lat, start_lng, end_lat, end_lng)\n",
    "            \n",
    "            # Cache the result\n",
    "            distance_cache[(start_id, end_id)] = duration\n",
    "        \n",
    "        durations.append(duration)\n",
    "    return durations"
   ]
  },
  {
   "cell_type": "code",
   "execution_count": null,
   "id": "ba1f52a1",
   "metadata": {},
   "outputs": [],
   "source": [
    "durations = calculate_durations(df, G, station_coords)"
   ]
  },
  {
   "cell_type": "code",
   "execution_count": 15,
   "id": "0088239b",
   "metadata": {},
   "outputs": [
    {
     "data": {
      "text/plain": [
       "<Axes: >"
      ]
     },
     "execution_count": 15,
     "metadata": {},
     "output_type": "execute_result"
    },
    {
     "data": {
      "image/png": "[encoded data removed]",
      "text/plain": [
       "<Figure size 1000x500 with 1 Axes>"
      ]
     },
     "metadata": {},
     "output_type": "display_data"
    }
   ],
   "source": [
    "df[\"fastest_duration\"] = durations\n",
    "df[\"fastest_duration\"].hist(bins=50, figsize=(10, 5))"
   ]
  },
  {
   "cell_type": "code",
   "execution_count": 17,
   "id": "3a86aea2",
   "metadata": {},
   "outputs": [
    {
     "data": {
      "text/plain": [
       "835"
      ]
     },
     "execution_count": 17,
     "metadata": {},
     "output_type": "execute_result"
    }
   ],
   "source": [
    "len(df)"
   ]
  },
  {
   "cell_type": "code",
   "execution_count": 19,
   "id": "9cc43305",
   "metadata": {},
   "outputs": [
    {
     "name": "stdout",
     "output_type": "stream",
     "text": [
      "Number of rows after filtering slow riders: 559\n"
     ]
    }
   ],
   "source": [
    "# 5. filter \n",
    "#     - remove routes which took much longer than the shortest possible duration (20% longer)\n",
    "\n",
    "def filter_slow_riders(df, threshold=1.1):\n",
    "    \"\"\"\n",
    "    Filter out trips where the actual duration is more than `threshold` times the fastest duration.\n",
    "    This automatically drops -1 durations as well.\n",
    "    \"\"\"\n",
    "    df = df[df['duration'] <= df['fastest_duration'] * threshold].reset_index(drop=True)\n",
    "    return df\n",
    "\n",
    "df = filter_slow_riders(df)\n",
    "print(f\"Number of rows after filtering slow riders: {len(df)}\")"
   ]
  },
  {
   "cell_type": "code",
   "execution_count": 20,
   "id": "46dc2f70",
   "metadata": {},
   "outputs": [],
   "source": [
    "# 6. check stats\n",
    "#     - distribution per type, membership\n",
    "#     - count each day total trips\n",
    "#     - compare to original stats\n",
    "\n",
    "fast_stats = get_stats(df)"
   ]
  },
  {
   "cell_type": "code",
   "execution_count": 28,
   "id": "0111c2b6",
   "metadata": {},
   "outputs": [
    {
     "data": {
      "image/png": "[encoded data removed]",
      "text/plain": [
       "<Figure size 1400x700 with 1 Axes>"
      ]
     },
     "metadata": {},
     "output_type": "display_data"
    }
   ],
   "source": [
    "import matplotlib.pyplot as plt\n",
    "\n",
    "# Convert dates to datetime objects for proper sorting\n",
    "dates_all = list(all_stats['daily_counts'].keys())\n",
    "counts_all = list(all_stats['daily_counts'].values())\n",
    "\n",
    "dates_fast = list(fast_stats['daily_counts'].keys())\n",
    "counts_fast = list(fast_stats['daily_counts'].values())\n",
    "\n",
    "# Create a dictionary to map dates to their counts for both datasets\n",
    "all_counts_dict = all_stats['daily_counts']\n",
    "fast_counts_dict = fast_stats['daily_counts']\n",
    "\n",
    "# Get the union of all dates\n",
    "all_dates = sorted(set(dates_all + dates_fast))\n",
    "\n",
    "# For each date, get the count from both datasets (0 if not present)\n",
    "all_counts = [all_counts_dict.get(date, 0) for date in all_dates]\n",
    "fast_counts = [fast_counts_dict.get(date, 0) for date in all_dates]\n",
    "\n",
    "# Plot both datasets on the same figure\n",
    "plt.figure(figsize=(14, 7))\n",
    "width = 0.35  # Width of bars\n",
    "x = range(len(all_dates))  # X positions for bars\n",
    "\n",
    "plt.bar([i - width/2 for i in x], all_counts, width, label='Before Filtering', color='skyblue')\n",
    "plt.bar([i + width/2 for i in x], fast_counts, width, label='After Filtering', color='salmon')\n",
    "\n",
    "# Format x-axis with dates\n",
    "plt.xticks(x, [date.strftime('%Y-%m-%d') for date in all_dates], rotation=45, ha='right')\n",
    "\n",
    "# Add labels and title\n",
    "plt.xlabel('Date')\n",
    "plt.ylabel('Number of Trips')\n",
    "plt.title('Daily Trip Counts Before and After Filtering')\n",
    "plt.legend()\n",
    "\n",
    "# Adjust layout for better display\n",
    "plt.tight_layout()\n",
    "plt.grid(axis='y', linestyle='--', alpha=0.7)\n",
    "plt.show()"
   ]
  },
  {
   "cell_type": "code",
   "execution_count": null,
   "id": "040ddbee",
   "metadata": {},
   "outputs": [],
   "source": [
    "# 7. plot the routes\n",
    "#     - group by start and end station\n",
    "#     - the more frequent the route is, the bigger the line"
   ]
  },
  {
   "cell_type": "markdown",
   "id": "b71638fb",
   "metadata": {},
   "source": [
    "# Test all at once"
   ]
  },
  {
   "cell_type": "code",
   "execution_count": 33,
   "id": "3bd52251",
   "metadata": {},
   "outputs": [
    {
     "name": "stdout",
     "output_type": "stream",
     "text": [
      "Loading graph...\n",
      "Graph loaded.\n"
     ]
    }
   ],
   "source": [
    "import os\n",
    "\n",
    "data_dir = 'bike_rent'\n",
    "files = os.listdir(data_dir)\n",
    "\n",
    "all_stats = []\n",
    "fast_stats = []\n",
    "distance_cache = {} # (start_id, end_id) -> duration\n",
    "station_coords = {} # (station_id -> (lat, lon))\n",
    "\n",
    "print(\"Loading graph...\")\n",
    "G = load_graph()\n",
    "print(\"Graph loaded.\")"
   ]
  },
  {
   "cell_type": "code",
   "execution_count": 35,
   "id": "2c197591",
   "metadata": {},
   "outputs": [
    {
     "data": {
      "application/vnd.jupyter.widget-view+json": {
       "model_id": "28a1882684d842a69a06ba539a714ac6",
       "version_major": 2,
       "version_minor": 0
      },
      "text/plain": [
       "  0%|          | 0/12 [00:00<?, ?it/s]"
      ]
     },
     "metadata": {},
     "output_type": "display_data"
    },
    {
     "name": "stdout",
     "output_type": "stream",
     "text": [
      "Initial number of rows: 100\n",
      "Number of rows after filtering: 81\n"
     ]
    },
    {
     "data": {
      "application/vnd.jupyter.widget-view+json": {
       "model_id": "ac042cd660334823b098a6a57fb0d34d",
       "version_major": 2,
       "version_minor": 0
      },
      "text/plain": [
       "Calculating durations:   0%|          | 0/81 [00:00<?, ?trip/s]"
      ]
     },
     "metadata": {},
     "output_type": "display_data"
    },
    {
     "name": "stdout",
     "output_type": "stream",
     "text": [
      "Initial number of rows: 100\n",
      "Number of rows after filtering: 78\n"
     ]
    },
    {
     "data": {
      "application/vnd.jupyter.widget-view+json": {
       "model_id": "6cd6efd1987d4e2bab34bfef89c376b4",
       "version_major": 2,
       "version_minor": 0
      },
      "text/plain": [
       "Calculating durations:   0%|          | 0/78 [00:00<?, ?trip/s]"
      ]
     },
     "metadata": {},
     "output_type": "display_data"
    },
    {
     "name": "stdout",
     "output_type": "stream",
     "text": [
      "No path found from (41.87811603010527, -87.63983845710754) to (41.87295, -87.66913)\n",
      "Initial number of rows: 100\n",
      "Number of rows after filtering: 82\n"
     ]
    },
    {
     "data": {
      "application/vnd.jupyter.widget-view+json": {
       "model_id": "bd9699217d2d409d9243576a4d929b1d",
       "version_major": 2,
       "version_minor": 0
      },
      "text/plain": [
       "Calculating durations:   0%|          | 0/82 [00:00<?, ?trip/s]"
      ]
     },
     "metadata": {},
     "output_type": "display_data"
    },
    {
     "name": "stdout",
     "output_type": "stream",
     "text": [
      "No path found from (41.886875, -87.62603) to (41.89766, -87.62351)\n",
      "Initial number of rows: 100\n",
      "Number of rows after filtering: 84\n"
     ]
    },
    {
     "data": {
      "application/vnd.jupyter.widget-view+json": {
       "model_id": "5b1a3550abaa46f1834edc6a6dc6efad",
       "version_major": 2,
       "version_minor": 0
      },
      "text/plain": [
       "Calculating durations:   0%|          | 0/84 [00:00<?, ?trip/s]"
      ]
     },
     "metadata": {},
     "output_type": "display_data"
    },
    {
     "name": "stdout",
     "output_type": "stream",
     "text": [
      "No path found from (41.884241, -87.629634) to (41.870769, -87.625734)\n",
      "Initial number of rows: 100\n",
      "Number of rows after filtering: 79\n"
     ]
    },
    {
     "data": {
      "application/vnd.jupyter.widget-view+json": {
       "model_id": "45ba7ebba40e4262b90f3b0055b1ea50",
       "version_major": 2,
       "version_minor": 0
      },
      "text/plain": [
       "Calculating durations:   0%|          | 0/79 [00:00<?, ?trip/s]"
      ]
     },
     "metadata": {},
     "output_type": "display_data"
    },
    {
     "name": "stdout",
     "output_type": "stream",
     "text": [
      "No path found from (41.890173, -87.626185) to (41.89766, -87.62351)\n",
      "Initial number of rows: 100\n",
      "Number of rows after filtering: 86\n"
     ]
    },
    {
     "data": {
      "application/vnd.jupyter.widget-view+json": {
       "model_id": "18f6a785ae7d4ae4b6d94ea587cc3a2a",
       "version_major": 2,
       "version_minor": 0
      },
      "text/plain": [
       "Calculating durations:   0%|          | 0/86 [00:00<?, ?trip/s]"
      ]
     },
     "metadata": {},
     "output_type": "display_data"
    },
    {
     "name": "stdout",
     "output_type": "stream",
     "text": [
      "No path found from (41.911722, -87.626804) to (41.89257, -87.614492)\n",
      "No path found from (41.884241, -87.629634) to (41.890844, -87.6317825)\n",
      "No path found from (41.884241, -87.629634) to (41.909668, -87.648128)\n",
      "No path found from (41.911722, -87.626804) to (41.89766, -87.62351)\n",
      "Initial number of rows: 100\n",
      "Number of rows after filtering: 77\n"
     ]
    },
    {
     "data": {
      "application/vnd.jupyter.widget-view+json": {
       "model_id": "30ea7da41b604c33ab50ea22e440f1a6",
       "version_major": 2,
       "version_minor": 0
      },
      "text/plain": [
       "Calculating durations:   0%|          | 0/77 [00:00<?, ?trip/s]"
      ]
     },
     "metadata": {},
     "output_type": "display_data"
    },
    {
     "name": "stdout",
     "output_type": "stream",
     "text": [
      "No path found from (41.8777525, -87.634799) to (41.89766, -87.62351)\n",
      "No path found from (41.884241, -87.629634) to (41.8793563587, -87.6297910363)\n",
      "Initial number of rows: 100\n",
      "Number of rows after filtering: 80\n"
     ]
    },
    {
     "data": {
      "application/vnd.jupyter.widget-view+json": {
       "model_id": "ee79a874bdc4477abd3f9398815b2645",
       "version_major": 2,
       "version_minor": 0
      },
      "text/plain": [
       "Calculating durations:   0%|          | 0/80 [00:00<?, ?trip/s]"
      ]
     },
     "metadata": {},
     "output_type": "display_data"
    },
    {
     "name": "stdout",
     "output_type": "stream",
     "text": [
      "No path found from (41.8742225, -87.62766883333333) to (41.89766, -87.62351)\n",
      "No path found from (41.88602082773, -87.6308760584) to (41.89257, -87.614492)\n",
      "No path found from (41.867491, -87.63219) to (41.89257, -87.614492)\n",
      "Initial number of rows: 100\n",
      "Number of rows after filtering: 83\n"
     ]
    },
    {
     "data": {
      "application/vnd.jupyter.widget-view+json": {
       "model_id": "5adc5899efcb4e669d723c2c597edca9",
       "version_major": 2,
       "version_minor": 0
      },
      "text/plain": [
       "Calculating durations:   0%|          | 0/83 [00:00<?, ?trip/s]"
      ]
     },
     "metadata": {},
     "output_type": "display_data"
    },
    {
     "name": "stdout",
     "output_type": "stream",
     "text": [
      "No path found from (41.867227, -87.625961) to (41.89257, -87.614492)\n",
      "Initial number of rows: 100\n",
      "Number of rows after filtering: 71\n"
     ]
    },
    {
     "data": {
      "application/vnd.jupyter.widget-view+json": {
       "model_id": "823bdef81c2146228911688be06f9154",
       "version_major": 2,
       "version_minor": 0
      },
      "text/plain": [
       "Calculating durations:   0%|          | 0/71 [00:00<?, ?trip/s]"
      ]
     },
     "metadata": {},
     "output_type": "display_data"
    },
    {
     "name": "stdout",
     "output_type": "stream",
     "text": [
      "No path found from (41.856268, -87.613348) to (41.89257, -87.614492)\n",
      "No path found from (41.885637, -87.641823) to (41.89766, -87.62351)\n",
      "Initial number of rows: 100\n",
      "Number of rows after filtering: 70\n"
     ]
    },
    {
     "data": {
      "application/vnd.jupyter.widget-view+json": {
       "model_id": "c409782ca5fc47778e9f23212aa05aec",
       "version_major": 2,
       "version_minor": 0
      },
      "text/plain": [
       "Calculating durations:   0%|          | 0/70 [00:00<?, ?trip/s]"
      ]
     },
     "metadata": {},
     "output_type": "display_data"
    },
    {
     "name": "stdout",
     "output_type": "stream",
     "text": [
      "Initial number of rows: 100\n",
      "Number of rows after filtering: 64\n"
     ]
    },
    {
     "data": {
      "application/vnd.jupyter.widget-view+json": {
       "model_id": "fbce029fd8784ce682e45ae8bf8a7f4a",
       "version_major": 2,
       "version_minor": 0
      },
      "text/plain": [
       "Calculating durations:   0%|          | 0/64 [00:00<?, ?trip/s]"
      ]
     },
     "metadata": {},
     "output_type": "display_data"
    },
    {
     "name": "stdout",
     "output_type": "stream",
     "text": [
      "No path found from (41.87811603010527, -87.63983845710754) to (41.884241, -87.629634)\n"
     ]
    }
   ],
   "source": [
    "\n",
    "for file in tqdm(files):\n",
    "    # read\n",
    "    df = pd.read_csv(f'{data_dir}/{file}')\n",
    "    df = df.sample(100)\n",
    "    \n",
    "    # filter\n",
    "    print(f\"Initial number of rows: {len(df)}\")\n",
    "    df = filter_and_prepare_data(df)\n",
    "    print(f\"Number of rows after filtering: {len(df)}\")\n",
    "    \n",
    "    # get stats\n",
    "    current_stats = get_stats(df)\n",
    "    all_stats.append(current_stats)\n",
    "\n",
    "    # get station coordinates\n",
    "    station_coords = get_station_coordinates(df, station_coords)\n",
    "\n",
    "    # calculate durations\n",
    "    durations = calculate_durations(df, G, station_coords)\n",
    "    df[\"fastest_duration\"] = durations\n",
    "\n",
    "    # filter slow riders\n",
    "    df = filter_slow_riders(df)\n",
    "\n",
    "    # get fast stats\n",
    "    current_fast_stats = get_stats(df)\n",
    "    fast_stats.append(current_fast_stats)"
   ]
  },
  {
   "cell_type": "code",
   "execution_count": 36,
   "id": "54f7ed54",
   "metadata": {},
   "outputs": [
    {
     "data": {
      "text/html": [
       "<div>\n",
       "<style scoped>\n",
       "    .dataframe tbody tr th:only-of-type {\n",
       "        vertical-align: middle;\n",
       "    }\n",
       "\n",
       "    .dataframe tbody tr th {\n",
       "        vertical-align: top;\n",
       "    }\n",
       "\n",
       "    .dataframe thead th {\n",
       "        text-align: right;\n",
       "    }\n",
       "</style>\n",
       "<table border=\"1\" class=\"dataframe\">\n",
       "  <thead>\n",
       "    <tr style=\"text-align: right;\">\n",
       "      <th></th>\n",
       "      <th>All Rides</th>\n",
       "      <th>Fast Rides</th>\n",
       "    </tr>\n",
       "  </thead>\n",
       "  <tbody>\n",
       "    <tr>\n",
       "      <th>classic_bike</th>\n",
       "      <td>675</td>\n",
       "      <td>432</td>\n",
       "    </tr>\n",
       "    <tr>\n",
       "      <th>electric_bike</th>\n",
       "      <td>221</td>\n",
       "      <td>170</td>\n",
       "    </tr>\n",
       "    <tr>\n",
       "      <th>docked_bike</th>\n",
       "      <td>39</td>\n",
       "      <td>16</td>\n",
       "    </tr>\n",
       "  </tbody>\n",
       "</table>\n",
       "</div>"
      ],
      "text/plain": [
       "               All Rides  Fast Rides\n",
       "classic_bike         675         432\n",
       "electric_bike        221         170\n",
       "docked_bike           39          16"
      ]
     },
     "execution_count": 36,
     "metadata": {},
     "output_type": "execute_result"
    }
   ],
   "source": [
    "all_ride_stats = join_stats(all_stats)\n",
    "fast_ride_stats = join_stats(fast_stats)\n",
    "\n",
    "# Create a table of bike types and their counts.\n",
    "# One column for each type, one row for all rides / fast rides\n",
    "bike_types = list(all_ride_stats['bike_counts'].keys())\n",
    "bike_counts = {\n",
    "    'All Rides': [all_ride_stats['bike_counts'].get(bike_type, 0) for bike_type in bike_types],\n",
    "    'Fast Rides': [fast_ride_stats['bike_counts'].get(bike_type, 0) for bike_type in bike_types]\n",
    "}\n",
    "bike_counts_df = pd.DataFrame(bike_counts, index=bike_types)\n",
    "bike_counts_df"
   ]
  },
  {
   "cell_type": "code",
   "execution_count": 88,
   "id": "3ae0d846",
   "metadata": {},
   "outputs": [],
   "source": [
    "date_count_df = pd.DataFrame(\n",
    "    all_ride_stats[\"daily_counts\"].items(),\n",
    "    columns=[\"date\", \"all_rides\"]\n",
    ")\n",
    "date_count_df_fast = pd.DataFrame(\n",
    "    fast_ride_stats[\"daily_counts\"].items(),\n",
    "    columns=[\"date\", \"fast_rides\"]\n",
    ")\n",
    "# Merge the two DataFrames on the 'date' column\n",
    "date_count_df = pd.merge(date_count_df, date_count_df_fast, on='date', how='outer')\n",
    "\n",
    "# Aggregate per mont date_count_df\n",
    "date_count_df['date'] = pd.to_datetime(date_count_df['date'])\n",
    "date_count_df['month'] = date_count_df['date'].dt.to_period('M')\n",
    "date_count_month_df = date_count_df.groupby('month')[[\"all_rides\", \"fast_rides\"]].sum().astype(int)\n",
    "\n",
    "date_count_month_df[\"percentage_fast\"] = ((\n",
    "    date_count_month_df[\"fast_rides\"] / date_count_month_df[\"all_rides\"]\n",
    ") * 100).astype(int)\n",
    "\n",
    "# Aggregate per day of the week\n",
    "date_count_df['day_of_week'] = date_count_df['date'].dt.day_name()\n",
    "date_count_weekday_df = date_count_df.groupby('day_of_week')[[\"all_rides\", \"fast_rides\"]].sum()\n",
    "# Sort the days of the week\n",
    "date_count_weekday_df = date_count_weekday_df.T[['Monday', 'Tuesday', 'Wednesday', 'Thursday', 'Friday', 'Saturday', 'Sunday']].T.astype(int)\n",
    "\n",
    "date_count_weekday_df[\"percentage_fast\"] = ((\n",
    "    date_count_weekday_df[\"fast_rides\"] / date_count_weekday_df[\"all_rides\"]\n",
    ") * 100).astype(int)"
   ]
  },
  {
   "cell_type": "code",
   "execution_count": null,
   "id": "7805a1de",
   "metadata": {},
   "outputs": [],
   "source": []
  }
 ],
 "metadata": {
  "kernelspec": {
   "display_name": "bigdata_task6-3.10",
   "language": "python",
   "name": "python3"
  },
  "language_info": {
   "codemirror_mode": {
    "name": "ipython",
    "version": 3
   },
   "file_extension": ".py",
   "mimetype": "text/x-python",
   "name": "python",
   "nbconvert_exporter": "python",
   "pygments_lexer": "ipython3",
   "version": "3.10.15"
  }
 },
 "nbformat": 4,
 "nbformat_minor": 5
}

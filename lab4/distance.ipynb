{
 "cells": [
  {
   "cell_type": "markdown",
   "id": "a533a67f",
   "metadata": {},
   "source": [
    "# Data loading"
   ]
  },
  {
   "cell_type": "code",
   "execution_count": 1,
   "id": "bd9bd3fd",
   "metadata": {},
   "outputs": [
    {
     "name": "stderr",
     "output_type": "stream",
     "text": [
      "WARNING: Using incubator modules: jdk.incubator.vector\n",
      "Using Spark's default log4j profile: org/apache/spark/log4j2-defaults.properties\n",
      "25/05/29 15:54:32 WARN Utils: Your hostname, DESKTOP-QJASGSB, resolves to a loopback address: 127.0.1.1; using 10.255.255.254 instead (on interface lo)\n",
      "25/05/29 15:54:32 WARN Utils: Set SPARK_LOCAL_IP if you need to bind to another address\n",
      "Using Spark's default log4j profile: org/apache/spark/log4j2-defaults.properties\n",
      "Setting default log level to \"WARN\".\n",
      "To adjust logging level use sc.setLogLevel(newLevel). For SparkR, use setLogLevel(newLevel).\n",
      "25/05/29 15:54:33 WARN NativeCodeLoader: Unable to load native-hadoop library for your platform... using builtin-java classes where applicable\n",
      "                                                                                \r"
     ]
    },
    {
     "name": "stdout",
     "output_type": "stream",
     "text": [
      "root\n",
      " |-- Timestamp: timestamp (nullable = true)\n",
      " |-- MMSI: integer (nullable = true)\n",
      " |-- Latitude: double (nullable = true)\n",
      " |-- Longitude: double (nullable = true)\n",
      "\n"
     ]
    },
    {
     "name": "stderr",
     "output_type": "stream",
     "text": [
      "                                                                                \r"
     ]
    },
    {
     "name": "stdout",
     "output_type": "stream",
     "text": [
      "Length of DataFrame: 19175663\n"
     ]
    },
    {
     "name": "stderr",
     "output_type": "stream",
     "text": [
      "[Stage 5:==================================================>      (23 + 3) / 26]\r"
     ]
    },
    {
     "name": "stdout",
     "output_type": "stream",
     "text": [
      "Length of DataFrame after dropping null values: 19175663\n"
     ]
    },
    {
     "name": "stderr",
     "output_type": "stream",
     "text": [
      "                                                                                \r"
     ]
    }
   ],
   "source": [
    "from pyspark.sql.functions import to_timestamp, col\n",
    "from pyspark.sql import SparkSession\n",
    "from pyspark.sql import functions as F\n",
    "from pyspark.sql.window import Window\n",
    "from pyspark.sql.types import DoubleType\n",
    "from pyspark.sql.functions import pandas_udf\n",
    "import pandas as pd\n",
    "import numpy as np\n",
    "\n",
    "EARTH_RADIUS = 6378  # km\n",
    "\n",
    "# Allow 4 GB of memory for the driver\n",
    "spark = SparkSession.builder \\\n",
    "    .appName(\"LongestRoute\") \\\n",
    "    .config(\"spark.driver.memory\", \"4g\") \\\n",
    "    .config(\"spark.sql.execution.arrow.maxRecordsPerBatch\", 1000) \\\n",
    "    .getOrCreate()\n",
    "\n",
    "\n",
    "# Load the CSV file into a DataFrame\n",
    "# data_path = \"../lab1/data/aisdk-test.csv\"\n",
    "data_path = \"data/aisdk-2024-05-04.csv\"\n",
    "\n",
    "df = spark.read.csv(data_path, header=True, inferSchema=True)\n",
    "\n",
    "# Convert the '# Timestamp' column to TimestampType\n",
    "df = df.withColumn(\"Timestamp\", to_timestamp(col(\"# Timestamp\"), \"dd/MM/yyyy HH:mm:ss\"))\n",
    "\n",
    "# Keep only these columns: Timestamp, MMSI, Latitude, Longitude\n",
    "df = df.select(\"Timestamp\", \"MMSI\", \"Latitude\", \"Longitude\")\n",
    "\n",
    "# disply the schema of the DataFrame\n",
    "df.printSchema()\n",
    "\n",
    "# print the length of the DataFrame\n",
    "print(f\"Length of DataFrame: {df.count()}\")\n",
    "\n",
    "# Remove rows with null values in any of the columns\n",
    "df = df.dropna()\n",
    "\n",
    "# print the length of the DataFrame after dropping null values\n",
    "print(f\"Length of DataFrame after dropping null values: {df.count()}\")"
   ]
  },
  {
   "cell_type": "markdown",
   "id": "07357441",
   "metadata": {},
   "source": [
    "# Data Processing"
   ]
  },
  {
   "cell_type": "markdown",
   "id": "249d0ece",
   "metadata": {},
   "source": [
    "### Check latitude and longitude ranges"
   ]
  },
  {
   "cell_type": "code",
   "execution_count": 2,
   "id": "d660be8f",
   "metadata": {},
   "outputs": [
    {
     "name": "stderr",
     "output_type": "stream",
     "text": [
      "                                                                                \r"
     ]
    },
    {
     "name": "stdout",
     "output_type": "stream",
     "text": [
      "Max Latitude: 91.0, Max Longitude: 161.236383\n"
     ]
    },
    {
     "name": "stderr",
     "output_type": "stream",
     "text": [
      "[Stage 17:=================================================>      (23 + 3) / 26]\r"
     ]
    },
    {
     "name": "stdout",
     "output_type": "stream",
     "text": [
      "Min Latitude: 0.433498, Min Longitude: -9.226323\n"
     ]
    },
    {
     "name": "stderr",
     "output_type": "stream",
     "text": [
      "                                                                                \r"
     ]
    }
   ],
   "source": [
    "# Print max latitude and longitude\n",
    "max_lat = df.agg({\"Latitude\": \"max\"}).collect()[0][0]\n",
    "max_lon = df.agg({\"Longitude\": \"max\"}).collect()[0][0]\n",
    "print(f\"Max Latitude: {max_lat}, Max Longitude: {max_lon}\")\n",
    "# Print min latitude and longitude\n",
    "min_lat = df.agg({\"Latitude\": \"min\"}).collect()[0][0]\n",
    "min_lon = df.agg({\"Longitude\": \"min\"}).collect()[0][0]\n",
    "print(f\"Min Latitude: {min_lat}, Min Longitude: {min_lon}\")"
   ]
  },
  {
   "cell_type": "code",
   "execution_count": 3,
   "id": "09a618c1",
   "metadata": {},
   "outputs": [
    {
     "name": "stderr",
     "output_type": "stream",
     "text": [
      "                                                                                \r"
     ]
    },
    {
     "name": "stdout",
     "output_type": "stream",
     "text": [
      "Rows with Latitude above 90: 24272\n"
     ]
    },
    {
     "name": "stderr",
     "output_type": "stream",
     "text": [
      "[Stage 23:=================================================>      (23 + 3) / 26]\r"
     ]
    },
    {
     "name": "stdout",
     "output_type": "stream",
     "text": [
      "Unique MMSI values in rows with Latitude above 90: 1095\n"
     ]
    },
    {
     "name": "stderr",
     "output_type": "stream",
     "text": [
      "                                                                                \r"
     ]
    }
   ],
   "source": [
    "# print how many rows have latitude above 90\n",
    "rows_above_90 = df.filter(col(\"Latitude\") > 90).count()\n",
    "print(f\"Rows with Latitude above 90: {rows_above_90}\")\n",
    "\n",
    "# How many unique MMSI values in rows_above_90\n",
    "unique_mmsi_above_90 = df.filter(col(\"Latitude\") > 90).select(\"MMSI\").distinct().count()\n",
    "print(f\"Unique MMSI values in rows with Latitude above 90: {unique_mmsi_above_90}\")"
   ]
  },
  {
   "cell_type": "code",
   "execution_count": 4,
   "id": "4be0f7ca",
   "metadata": {},
   "outputs": [],
   "source": [
    "# Remove rows with latitude above 90\n",
    "df = df.filter(col(\"Latitude\") <= 90)"
   ]
  },
  {
   "cell_type": "markdown",
   "id": "b414a351",
   "metadata": {},
   "source": [
    "### Preparation\n",
    "\n",
    "groupby MMSI and order by timestamp, then include the next location latitude, longtitude and timestamp for each row"
   ]
  },
  {
   "cell_type": "code",
   "execution_count": 5,
   "id": "3796962e",
   "metadata": {},
   "outputs": [],
   "source": [
    "df = df.withColumn(\"Latitude\", F.radians(\"Latitude\"))\n",
    "df = df.withColumn(\"Longitude\", F.radians(\"Longitude\"))\n",
    "\n",
    "window = Window.partitionBy(\"MMSI\").orderBy(\"Timestamp\")\n",
    "\n",
    "df = df.withColumn(\"prev_lat\", F.lag(\"Latitude\").over(window))\n",
    "df = df.withColumn(\"prev_lon\", F.lag(\"Longitude\").over(window))\n",
    "df = df.withColumn(\"prev_Timestamp\", F.lag(\"Timestamp\").over(window))\n"
   ]
  },
  {
   "cell_type": "code",
   "execution_count": 6,
   "id": "e83a5813",
   "metadata": {},
   "outputs": [
    {
     "name": "stderr",
     "output_type": "stream",
     "text": [
      "                                                                                \r"
     ]
    },
    {
     "name": "stdout",
     "output_type": "stream",
     "text": [
      "Rows with nulls: 5575\n"
     ]
    },
    {
     "name": "stderr",
     "output_type": "stream",
     "text": [
      "[Stage 35:=====================================================>  (25 + 1) / 26]\r"
     ]
    },
    {
     "name": "stdout",
     "output_type": "stream",
     "text": [
      "Distinct MMSI: 5575\n"
     ]
    },
    {
     "name": "stderr",
     "output_type": "stream",
     "text": [
      "                                                                                \r"
     ]
    }
   ],
   "source": [
    "# Sanity check: ensure a 1 null per MMSI\n",
    "\n",
    "na_count = df.filter(\n",
    "    col(\"prev_lat\").isNull() |\n",
    "    col(\"prev_lon\").isNull() | \n",
    "    col(\"prev_Timestamp\").isNull()\n",
    ").count()\n",
    "\n",
    "print(f\"Rows with nulls: {na_count}\")\n",
    "print(f\"Distinct MMSI: {df.select('MMSI').distinct().count()}\")"
   ]
  },
  {
   "cell_type": "code",
   "execution_count": 7,
   "id": "3c01f4a0",
   "metadata": {},
   "outputs": [],
   "source": [
    "# Remove the the null values (one per MMSI)\n",
    "df = df.dropna(subset=[\"prev_lat\", \"prev_lon\"])"
   ]
  },
  {
   "cell_type": "markdown",
   "id": "d942918c",
   "metadata": {},
   "source": [
    "## Calculate the distance"
   ]
  },
  {
   "cell_type": "code",
   "execution_count": 8,
   "id": "4db3f3b6",
   "metadata": {},
   "outputs": [],
   "source": [
    "@pandas_udf(DoubleType())\n",
    "def haversine_radians(lat1: pd.Series, lon1: pd.Series, lat2: pd.Series, lon2: pd.Series) -> pd.Series:\n",
    "    dlat = lat2 - lat1\n",
    "    dlon = lon2 - lon1\n",
    "    a = np.sin(dlat/2)**2 + np.cos(lat1) * np.cos(lat2) * np.sin(dlon/2)**2\n",
    "    c = 2 * np.arctan2(np.sqrt(a), np.sqrt(1 - a))\n",
    "    return EARTH_RADIUS * c\n"
   ]
  },
  {
   "cell_type": "code",
   "execution_count": 9,
   "id": "89914c45",
   "metadata": {},
   "outputs": [],
   "source": [
    "# Calculate the distance\n",
    "df = df.withColumn(\"distance\", haversine_radians(\n",
    "    F.col(\"Latitude\"), F.col(\"Longitude\"),\n",
    "    F.col(\"prev_lat\"), F.col(\"prev_lon\")\n",
    ")).persist()"
   ]
  },
  {
   "cell_type": "code",
   "execution_count": 10,
   "id": "74be1043",
   "metadata": {},
   "outputs": [
    {
     "name": "stderr",
     "output_type": "stream",
     "text": [
      "[Stage 43:=====================================================>(199 + 1) / 200]\r"
     ]
    },
    {
     "name": "stdout",
     "output_type": "stream",
     "text": [
      "+---------+-----------------+\n",
      "|     MMSI|   total_distance|\n",
      "+---------+-----------------+\n",
      "|219000962|91568.18766608107|\n",
      "+---------+-----------------+\n",
      "\n"
     ]
    },
    {
     "name": "stderr",
     "output_type": "stream",
     "text": [
      "                                                                                \r"
     ]
    }
   ],
   "source": [
    "# Aggregate the distances by MMSI and show the maximum distance\n",
    "df_total = df.groupBy(\"MMSI\").agg(F.sum(\"distance\").alias(\"total_distance\"))\n",
    "longest_route = df_total.orderBy(F.desc(\"total_distance\")).limit(1)\n",
    "longest_route.show()"
   ]
  },
  {
   "cell_type": "markdown",
   "id": "6e5bb7f2",
   "metadata": {},
   "source": [
    "## Distance calculation notes"
   ]
  },
  {
   "cell_type": "markdown",
   "id": "553ca992",
   "metadata": {},
   "source": [
    "Without memory offloading to disk using (`persist()`), spark runs out of memory:\n",
    "<br>\n",
    "> \n",
    "    Exception in thread \"RemoteBlock-temp-file-clean-thread\" java.lang.OutOfMemoryError: Java heap space\n",
    "    25/05/29 11:42:50 WARN TaskMemoryManager: Failed to allocate a page (524288 bytes), try again.\n",
    "<br>\n",
    "<br>\n",
    "\n",
    "\n",
    "Without restriced memory (`.config(\"spark.driver.memory\", \"4g\") \\`) does not fit cache into memory and writes into disk. Produces warnings like this one:\n",
    "<br>\n",
    "\n",
    ">\n",
    "    25/05/29 11:47:16 WARN MemoryStore: Not enough space to cache rdd_58_79 in memory! (computed 3.9 MiB so far) \n",
    "    25/05/29 11:47:16 WARN BlockManager: Persisting block rdd_58_79 to disk instead\n"
   ]
  },
  {
   "cell_type": "markdown",
   "id": "1fb3ec88",
   "metadata": {},
   "source": [
    "# Filtering\n",
    "\n",
    "The total distance is huge, let's filter the vessels by speed and sudden jumps"
   ]
  },
  {
   "cell_type": "markdown",
   "id": "c4791608",
   "metadata": {},
   "source": [
    "### Find MMSI with speed to big"
   ]
  },
  {
   "cell_type": "code",
   "execution_count": 44,
   "id": "8bfc9654",
   "metadata": {},
   "outputs": [
    {
     "name": "stdout",
     "output_type": "stream",
     "text": [
      "+---------+--------------------+\n",
      "|     MMSI|           max_speed|\n",
      "+---------+--------------------+\n",
      "|992111851|1.0847190754747417E7|\n",
      "|219000962|   8237218.904234478|\n",
      "|305036000|   4487706.692623429|\n",
      "|266460000|   3735183.862427563|\n",
      "|255806476|   2307281.642306903|\n",
      "+---------+--------------------+\n",
      "\n"
     ]
    }
   ],
   "source": [
    "SPEED_THRESHOLD = 500  # 'Spirit of Australia' boat record speed in km/h, faster even than helicopter\n",
    "\n",
    "# Calculate the time difference in seconds\n",
    "df = df.withColumn(\"time_diff\", \n",
    "                   (F.col(\"Timestamp\").cast(\"long\") - F.col(\"prev_Timestamp\").cast(\"long\")))\n",
    "\n",
    "# Calculate the speed in km/h\n",
    "df = df.withColumn(\"speed\", \n",
    "                   F.when(F.col(\"time_diff\") > 0, \n",
    "                          (F.col(\"distance\") / F.col(\"time_diff\")) * 3600).otherwise(0))\n",
    "\n",
    "# Show the top speeds\n",
    "max_speed = df.groupBy(\"MMSI\").agg(F.max(\"speed\").alias(\"max_speed\"))\n",
    "max_speed = max_speed.orderBy(F.desc(\"max_speed\"))\n",
    "max_speed.limit(5).show()"
   ]
  },
  {
   "cell_type": "code",
   "execution_count": 45,
   "id": "b22172c5",
   "metadata": {},
   "outputs": [
    {
     "data": {
      "text/plain": [
       "404"
      ]
     },
     "execution_count": 45,
     "metadata": {},
     "output_type": "execute_result"
    }
   ],
   "source": [
    "# Get the MMSI that has bigger speed than the threshold\n",
    "high_speed_mmsi = max_speed.filter(F.col(\"max_speed\") > SPEED_THRESHOLD).select(\"MMSI\")\n",
    "high_speed_mmsi.count()"
   ]
  },
  {
   "cell_type": "markdown",
   "id": "be329078",
   "metadata": {},
   "source": [
    "### Find MMSI with sudden jumps"
   ]
  },
  {
   "cell_type": "code",
   "execution_count": 46,
   "id": "68633de8",
   "metadata": {},
   "outputs": [
    {
     "name": "stdout",
     "output_type": "stream",
     "text": [
      "+---------+-------------------+------------------+---------+\n",
      "|     MMSI|          Timestamp|          distance|time_diff|\n",
      "+---------+-------------------+------------------+---------+\n",
      "|992111851|2024-05-04 06:15:36| 6026.217085970787|        0|\n",
      "|266460000|2024-05-04 18:56:23|3112.6517714155084|        0|\n",
      "|218816000|2024-05-04 21:32:12|3108.2089704214786|        0|\n",
      "|218816000|2024-05-04 21:32:12|3108.2089704214786|        0|\n",
      "|563074600|2024-05-04 23:44:44| 1462.095225273255|        0|\n",
      "+---------+-------------------+------------------+---------+\n",
      "only showing top 5 rows\n"
     ]
    }
   ],
   "source": [
    "# For the time_diff = 0, show the distances\n",
    "zero_time_diff = df.filter(F.col(\"time_diff\") == 0)\n",
    "zero_time_diff.select(\"MMSI\", \"Timestamp\", \"distance\", \"time_diff\").orderBy(F.desc(\"distance\")).show(5)"
   ]
  },
  {
   "cell_type": "code",
   "execution_count": null,
   "id": "cd6b68d7",
   "metadata": {},
   "outputs": [
    {
     "data": {
      "text/plain": [
       "21"
      ]
     },
     "execution_count": 47,
     "metadata": {},
     "output_type": "execute_result"
    }
   ],
   "source": [
    "# Get the MMSI that has zero time difference and a distance geater than 1\n",
    "# Meaning it jumped more than 1 km in 0 seconds\n",
    "zero_time_diff_mmsi = zero_time_diff.filter(F.col(\"distance\") > 1).select(\"MMSI\").distinct()\n",
    "zero_time_diff_mmsi.count()"
   ]
  },
  {
   "cell_type": "markdown",
   "id": "799faa53",
   "metadata": {},
   "source": [
    "### Filter the results and produce final output"
   ]
  },
  {
   "cell_type": "code",
   "execution_count": 48,
   "id": "4083b307",
   "metadata": {},
   "outputs": [
    {
     "name": "stdout",
     "output_type": "stream",
     "text": [
      "+---------+-----------------+\n",
      "|     MMSI|   total_distance|\n",
      "+---------+-----------------+\n",
      "|219133000|793.6929981047765|\n",
      "|230007000|  739.58325628029|\n",
      "|636017000|719.0057649888952|\n",
      "|308803000| 709.981485328393|\n",
      "|244874000| 685.002795106738|\n",
      "|636018490|677.2374536682871|\n",
      "|230350000| 652.875358918316|\n",
      "|257182000|650.3570832881265|\n",
      "|354540000|643.8255820359683|\n",
      "|277399000|636.4836939538918|\n",
      "+---------+-----------------+\n",
      "\n"
     ]
    },
    {
     "name": "stderr",
     "output_type": "stream",
     "text": [
      "                                                                                \r"
     ]
    }
   ],
   "source": [
    "# Remove the high speed mmsi from 'df_total'\n",
    "df_total_filtered = df_total.join(high_speed_mmsi, on=\"MMSI\", how=\"left_anti\")\n",
    "\n",
    "# Remove the sudden jumps in zero time difference from 'df_total_filtered'\n",
    "df_total_filtered = df_total_filtered.join(zero_time_diff_mmsi, on=\"MMSI\", how=\"left_anti\")\n",
    "\n",
    "# Show the longest route after filtering out high speed MMSI\n",
    "longest_route_filtered = df_total_filtered.orderBy(F.desc(\"total_distance\")).limit(10)\n",
    "longest_route_filtered.show()"
   ]
  },
  {
   "cell_type": "code",
   "execution_count": 49,
   "id": "1a4353c9",
   "metadata": {},
   "outputs": [
    {
     "name": "stderr",
     "output_type": "stream",
     "text": [
      "[Stage 365:=========>  (166 + 23) / 200][Stage 366:>              (0 + 0) / 200]\r"
     ]
    },
    {
     "name": "stdout",
     "output_type": "stream",
     "text": [
      "+---------+-----------------+------------------+\n",
      "|     MMSI|   total_distance|         max_speed|\n",
      "+---------+-----------------+------------------+\n",
      "|219133000|793.6929981047765| 457.9871766060948|\n",
      "|230007000|  739.58325628029| 382.5326478484258|\n",
      "|636017000|719.0057649888952|393.10882746936676|\n",
      "|308803000| 709.981485328393| 358.9479569856432|\n",
      "|244874000| 685.002795106738|229.39710526604875|\n",
      "|636018490|677.2374536682871| 200.5910982493852|\n",
      "|230350000| 652.875358918316| 258.6723715405454|\n",
      "|257182000|650.3570832881265| 394.8183889309251|\n",
      "|354540000|643.8255820359683|253.84739280214254|\n",
      "|277399000|636.4836939538918|367.31211031850665|\n",
      "+---------+-----------------+------------------+\n",
      "\n"
     ]
    },
    {
     "name": "stderr",
     "output_type": "stream",
     "text": [
      "                                                                                \r"
     ]
    }
   ],
   "source": [
    "# Show the longest_route_filtered along with their speeds\n",
    "longest_route_filtered = longest_route_filtered.join(max_speed, on=\"MMSI\", how=\"inner\")\n",
    "longest_route_filtered = longest_route_filtered.orderBy(F.desc(\"total_distance\"))\n",
    "longest_route_filtered.select(\"MMSI\", \"total_distance\", \"max_speed\").show()"
   ]
  },
  {
   "attachments": {
    "1.jpg": {
     "image/jpeg": "[encoded data removed]"
    }
   },
   "cell_type": "markdown",
   "id": "91e0e366",
   "metadata": {},
   "source": [
    "The top distance ship '219133000' with distnace of 793.6 km\n",
    "\n",
    "![1.jpg](attachment:1.jpg)"
   ]
  }
 ],
 "metadata": {
  "kernelspec": {
   "display_name": "bigdata_task4-3.10",
   "language": "python",
   "name": "python3"
  },
  "language_info": {
   "codemirror_mode": {
    "name": "ipython",
    "version": 3
   },
   "file_extension": ".py",
   "mimetype": "text/x-python",
   "name": "python",
   "nbconvert_exporter": "python",
   "pygments_lexer": "ipython3",
   "version": "3.10.15"
  }
 },
 "nbformat": 4,
 "nbformat_minor": 5
}

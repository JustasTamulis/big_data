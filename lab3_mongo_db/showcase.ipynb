{
 "cells": [
  {
   "cell_type": "markdown",
   "id": "5a5e44b7",
   "metadata": {},
   "source": [
    "# Showcase for a video\n",
    "\n",
    "showcase one of the Mongo database instance failures and how it's continued to work."
   ]
  },
  {
   "cell_type": "code",
   "execution_count": 1,
   "id": "b493c903",
   "metadata": {},
   "outputs": [],
   "source": [
    "from pymongo import MongoClient\n",
    "\n",
    "def print_member_status(client):\n",
    "    db = client.admin\n",
    "    rs_status = db.command({'replSetGetStatus': 1})\n",
    "\n",
    "    for m in rs_status['members']:\n",
    "        print(m['name'], m['stateStr'])"
   ]
  },
  {
   "cell_type": "code",
   "execution_count": 2,
   "id": "5b620737",
   "metadata": {},
   "outputs": [
    {
     "name": "stdout",
     "output_type": "stream",
     "text": [
      "localhost:27017 PRIMARY\n",
      "localhost:27018 SECONDARY\n",
      "localhost:27019 SECONDARY\n"
     ]
    }
   ],
   "source": [
    "client = MongoClient('mongodb://localhost:27017,localhost:27018,localhost:27019/?replicaSet=foo')\n",
    "print_member_status(client)"
   ]
  },
  {
   "cell_type": "code",
   "execution_count": 3,
   "id": "0e3e395a",
   "metadata": {},
   "outputs": [
    {
     "name": "stdout",
     "output_type": "stream",
     "text": [
      "{'_id': ObjectId('681dfbee3227ff9807e5b165'), 'name': 'test1'}\n",
      "{'_id': ObjectId('681dfbee3227ff9807e5b166'), 'name': 'test2'}\n",
      "{'_id': ObjectId('681dfbee3227ff9807e5b167'), 'name': 'test3'}\n"
     ]
    }
   ],
   "source": [
    "# Insert some documents to test collection\n",
    "\n",
    "db = client.test\n",
    "db.test.insert_one({'name': 'test1'})\n",
    "db.test.insert_one({'name': 'test2'})\n",
    "db.test.insert_one({'name': 'test3'})\n",
    "\n",
    "# Print the documents in the collection\n",
    "for doc in db.test.find():\n",
    "    print(doc)"
   ]
  },
  {
   "cell_type": "code",
   "execution_count": 4,
   "id": "f10b1184",
   "metadata": {},
   "outputs": [
    {
     "name": "stdout",
     "output_type": "stream",
     "text": [
      "localhost:27017 SECONDARY\n",
      "localhost:27018 PRIMARY\n",
      "localhost:27019 SECONDARY\n",
      "{'_id': ObjectId('681dfbee3227ff9807e5b165'), 'name': 'test1'}\n",
      "{'_id': ObjectId('681dfbee3227ff9807e5b166'), 'name': 'test2'}\n",
      "{'_id': ObjectId('681dfbee3227ff9807e5b167'), 'name': 'test3'}\n"
     ]
    }
   ],
   "source": [
    "# Kill the primary server manually then run this\n",
    "print_member_status(client)\n",
    "\n",
    "# Print the documents in the collection\n",
    "for doc in db.test.find():\n",
    "    print(doc)\n",
    "\n",
    "# Another node becomes primary instantly and you can still read the documents"
   ]
  },
  {
   "cell_type": "code",
   "execution_count": 5,
   "id": "4d8866b5",
   "metadata": {},
   "outputs": [
    {
     "name": "stdout",
     "output_type": "stream",
     "text": [
      "localhost:27017 (not reachable/healthy)\n",
      "localhost:27018 PRIMARY\n",
      "localhost:27019 SECONDARY\n"
     ]
    }
   ],
   "source": [
    "print_member_status(client)\n",
    "\n",
    "# The killed not becomes unreachable"
   ]
  },
  {
   "cell_type": "code",
   "execution_count": 6,
   "id": "336bc683",
   "metadata": {},
   "outputs": [
    {
     "name": "stdout",
     "output_type": "stream",
     "text": [
      "localhost:27017 SECONDARY\n",
      "localhost:27018 PRIMARY\n",
      "localhost:27019 SECONDARY\n"
     ]
    }
   ],
   "source": [
    "# Start the killed node and it will become secondary\n",
    "print_member_status(client)"
   ]
  },
  {
   "cell_type": "code",
   "execution_count": null,
   "id": "47740d7a",
   "metadata": {},
   "outputs": [],
   "source": [
    "# remove the documents\n",
    "db.test.delete_many({})"
   ]
  },
  {
   "cell_type": "code",
   "execution_count": null,
   "id": "9eb6abe1",
   "metadata": {},
   "outputs": [],
   "source": []
  }
 ],
 "metadata": {
  "kernelspec": {
   "display_name": "bigdata_task3-3.10",
   "language": "python",
   "name": "python3"
  },
  "language_info": {
   "codemirror_mode": {
    "name": "ipython",
    "version": 3
   },
   "file_extension": ".py",
   "mimetype": "text/x-python",
   "name": "python",
   "nbconvert_exporter": "python",
   "pygments_lexer": "ipython3",
   "version": "3.10.15"
  }
 },
 "nbformat": 4,
 "nbformat_minor": 5
}

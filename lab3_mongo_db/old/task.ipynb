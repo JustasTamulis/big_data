{
 "cells": [
  {
   "cell_type": "markdown",
   "id": "076d0ead",
   "metadata": {},
   "source": [
    "### following mongodb setup\n",
    "\n",
    "https://www.mongodb.com/resources/products/compatibilities/deploying-a-mongodb-cluster-with-docker\n",
    "\n",
    "\n",
    "1) Create docker network with 'docker network create mongoCluster'\n",
    "2) Create mongod instances in docker with\n",
    "3) Create 2 more such instances\n",
    "4) Use pymongo to connect init the replica set"
   ]
  },
  {
   "cell_type": "code",
   "execution_count": null,
   "id": "748e31f2",
   "metadata": {},
   "outputs": [],
   "source": [
    "docker run -d --rm -p 27017:27017 --name mongo1 --network mongoCluster mongo:5 mongod --replSet myReplicaSet --bind_ip localhost,mongo1"
   ]
  },
  {
   "cell_type": "code",
   "execution_count": null,
   "id": "3af10c74",
   "metadata": {},
   "outputs": [],
   "source": [
    "docker run -d --rm -p 27017:27017 --name mongo1 --network mongoCluster mongo:5 mongod --replSet myReplicaSet --bind_ip localhost,mongo1"
   ]
  },
  {
   "cell_type": "code",
   "execution_count": null,
   "id": "5fe7ad18",
   "metadata": {},
   "outputs": [],
   "source": [
    "#### NOTE FOR MYSELF\n",
    "\n",
    "# Check whether binding to different ports works\n",
    "# run with the following:\n",
    "\n",
    "# docker run -d --rm -p 27017:27017 --name mongo1 --network mongoCluster mongo:5 mongod --replSet myReplicaSet --bind_ip localhost,mongo1 --port 27017\n",
    "# for mongo2\n",
    "# docker run -d --rm -p 27018:27018 --name mongo2 --network mongoCluster mongo:5 mongod --replSet myReplicaSet --bind_ip localhost,mongo2 --port 27018\n",
    "# for mongo3\n",
    "# docker run -d --rm -p 27019:27019 --name mongo3 --network mongoCluster mongo:5 mongod --replSet myReplicaSet --bind_ip localhost,mongo3 --port 27019\n",
    "\n",
    "# Then initiate replicate set\n",
    "# Then use \n",
    "\n",
    "client = MongoClient('localhost', 27017, directConnection=True, replicaSet='myReplicaSet')\n",
    "print_node_status(client)\n",
    "\n",
    "# Then kill the mongo1 container\n",
    "\n",
    "# Then check again\n",
    "\n",
    "# IF fails - this means that mapping like '27018:27017' should resolve the issue"
   ]
  },
  {
   "cell_type": "code",
   "execution_count": null,
   "id": "7b953d55",
   "metadata": {},
   "outputs": [],
   "source": []
  },
  {
   "cell_type": "code",
   "execution_count": null,
   "id": "b82b5e1b",
   "metadata": {},
   "outputs": [],
   "source": []
  }
 ],
 "metadata": {
  "kernelspec": {
   "display_name": "bigdata_task3-3.10",
   "language": "python",
   "name": "python3"
  },
  "language_info": {
   "codemirror_mode": {
    "name": "ipython",
    "version": 3
   },
   "file_extension": ".py",
   "mimetype": "text/x-python",
   "name": "python",
   "nbconvert_exporter": "python",
   "pygments_lexer": "ipython3",
   "version": "3.10.15"
  }
 },
 "nbformat": 4,
 "nbformat_minor": 5
}
